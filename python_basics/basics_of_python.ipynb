{
 "cells": [
  {
   "cell_type": "code",
   "execution_count": 70,
   "metadata": {},
   "outputs": [],
   "source": [
    "import pandas as pd\n",
    "import numpy as np"
   ]
  },
  {
   "cell_type": "code",
   "execution_count": 71,
   "metadata": {},
   "outputs": [
    {
     "data": {
      "text/html": [
       "<div>\n",
       "<style scoped>\n",
       "    .dataframe tbody tr th:only-of-type {\n",
       "        vertical-align: middle;\n",
       "    }\n",
       "\n",
       "    .dataframe tbody tr th {\n",
       "        vertical-align: top;\n",
       "    }\n",
       "\n",
       "    .dataframe thead th {\n",
       "        text-align: right;\n",
       "    }\n",
       "</style>\n",
       "<table border=\"1\" class=\"dataframe\">\n",
       "  <thead>\n",
       "    <tr style=\"text-align: right;\">\n",
       "      <th></th>\n",
       "      <th>79</th>\n",
       "      <th>97</th>\n",
       "      <th>95</th>\n",
       "      <th>49</th>\n",
       "      <th>99</th>\n",
       "      <th>24</th>\n",
       "      <th>83</th>\n",
       "      <th>58</th>\n",
       "      <th>77</th>\n",
       "      <th>54</th>\n",
       "    </tr>\n",
       "  </thead>\n",
       "  <tbody>\n",
       "    <tr>\n",
       "      <th>0</th>\n",
       "      <td>0.169832</td>\n",
       "      <td>0.083741</td>\n",
       "      <td>0.024877</td>\n",
       "      <td>0.913033</td>\n",
       "      <td>0.592214</td>\n",
       "      <td>0.237032</td>\n",
       "      <td>0.899218</td>\n",
       "      <td>0.682899</td>\n",
       "      <td>0.057132</td>\n",
       "      <td>0.419948</td>\n",
       "    </tr>\n",
       "    <tr>\n",
       "      <th>1</th>\n",
       "      <td>0.715726</td>\n",
       "      <td>0.934746</td>\n",
       "      <td>0.046383</td>\n",
       "      <td>0.779218</td>\n",
       "      <td>0.852563</td>\n",
       "      <td>0.403497</td>\n",
       "      <td>0.351307</td>\n",
       "      <td>0.702302</td>\n",
       "      <td>0.175030</td>\n",
       "      <td>0.571681</td>\n",
       "    </tr>\n",
       "    <tr>\n",
       "      <th>2</th>\n",
       "      <td>0.348638</td>\n",
       "      <td>0.646790</td>\n",
       "      <td>0.253043</td>\n",
       "      <td>0.248458</td>\n",
       "      <td>0.506880</td>\n",
       "      <td>0.102541</td>\n",
       "      <td>0.866632</td>\n",
       "      <td>0.339623</td>\n",
       "      <td>0.155157</td>\n",
       "      <td>0.997799</td>\n",
       "    </tr>\n",
       "    <tr>\n",
       "      <th>3</th>\n",
       "      <td>0.445794</td>\n",
       "      <td>0.442346</td>\n",
       "      <td>0.110459</td>\n",
       "      <td>0.066094</td>\n",
       "      <td>0.231618</td>\n",
       "      <td>0.981408</td>\n",
       "      <td>0.636670</td>\n",
       "      <td>0.159092</td>\n",
       "      <td>0.513213</td>\n",
       "      <td>0.986046</td>\n",
       "    </tr>\n",
       "    <tr>\n",
       "      <th>4</th>\n",
       "      <td>0.213986</td>\n",
       "      <td>0.430375</td>\n",
       "      <td>0.300846</td>\n",
       "      <td>0.666332</td>\n",
       "      <td>0.132590</td>\n",
       "      <td>0.747071</td>\n",
       "      <td>0.277911</td>\n",
       "      <td>0.781255</td>\n",
       "      <td>0.457060</td>\n",
       "      <td>0.043375</td>\n",
       "    </tr>\n",
       "    <tr>\n",
       "      <th>5</th>\n",
       "      <td>0.456367</td>\n",
       "      <td>0.706548</td>\n",
       "      <td>0.148311</td>\n",
       "      <td>0.894478</td>\n",
       "      <td>0.257242</td>\n",
       "      <td>0.642408</td>\n",
       "      <td>0.396992</td>\n",
       "      <td>0.239176</td>\n",
       "      <td>0.761767</td>\n",
       "      <td>0.245492</td>\n",
       "    </tr>\n",
       "    <tr>\n",
       "      <th>6</th>\n",
       "      <td>0.245639</td>\n",
       "      <td>0.419533</td>\n",
       "      <td>0.169320</td>\n",
       "      <td>0.599329</td>\n",
       "      <td>0.773609</td>\n",
       "      <td>0.924274</td>\n",
       "      <td>0.231867</td>\n",
       "      <td>0.758161</td>\n",
       "      <td>0.776479</td>\n",
       "      <td>0.076909</td>\n",
       "    </tr>\n",
       "    <tr>\n",
       "      <th>7</th>\n",
       "      <td>0.555639</td>\n",
       "      <td>0.217889</td>\n",
       "      <td>0.891257</td>\n",
       "      <td>0.148321</td>\n",
       "      <td>0.570661</td>\n",
       "      <td>0.072082</td>\n",
       "      <td>0.288100</td>\n",
       "      <td>0.249127</td>\n",
       "      <td>0.345719</td>\n",
       "      <td>0.116196</td>\n",
       "    </tr>\n",
       "    <tr>\n",
       "      <th>8</th>\n",
       "      <td>0.061422</td>\n",
       "      <td>0.080295</td>\n",
       "      <td>0.543694</td>\n",
       "      <td>0.272302</td>\n",
       "      <td>0.871336</td>\n",
       "      <td>0.331946</td>\n",
       "      <td>0.772358</td>\n",
       "      <td>0.023589</td>\n",
       "      <td>0.333533</td>\n",
       "      <td>0.524878</td>\n",
       "    </tr>\n",
       "    <tr>\n",
       "      <th>9</th>\n",
       "      <td>0.850610</td>\n",
       "      <td>0.867440</td>\n",
       "      <td>0.220128</td>\n",
       "      <td>0.714558</td>\n",
       "      <td>0.961585</td>\n",
       "      <td>0.269239</td>\n",
       "      <td>0.397203</td>\n",
       "      <td>0.693986</td>\n",
       "      <td>0.761145</td>\n",
       "      <td>0.355358</td>\n",
       "    </tr>\n",
       "  </tbody>\n",
       "</table>\n",
       "</div>"
      ],
      "text/plain": [
       "         79        97        95        49        99        24        83  \\\n",
       "0  0.169832  0.083741  0.024877  0.913033  0.592214  0.237032  0.899218   \n",
       "1  0.715726  0.934746  0.046383  0.779218  0.852563  0.403497  0.351307   \n",
       "2  0.348638  0.646790  0.253043  0.248458  0.506880  0.102541  0.866632   \n",
       "3  0.445794  0.442346  0.110459  0.066094  0.231618  0.981408  0.636670   \n",
       "4  0.213986  0.430375  0.300846  0.666332  0.132590  0.747071  0.277911   \n",
       "5  0.456367  0.706548  0.148311  0.894478  0.257242  0.642408  0.396992   \n",
       "6  0.245639  0.419533  0.169320  0.599329  0.773609  0.924274  0.231867   \n",
       "7  0.555639  0.217889  0.891257  0.148321  0.570661  0.072082  0.288100   \n",
       "8  0.061422  0.080295  0.543694  0.272302  0.871336  0.331946  0.772358   \n",
       "9  0.850610  0.867440  0.220128  0.714558  0.961585  0.269239  0.397203   \n",
       "\n",
       "         58        77        54  \n",
       "0  0.682899  0.057132  0.419948  \n",
       "1  0.702302  0.175030  0.571681  \n",
       "2  0.339623  0.155157  0.997799  \n",
       "3  0.159092  0.513213  0.986046  \n",
       "4  0.781255  0.457060  0.043375  \n",
       "5  0.239176  0.761767  0.245492  \n",
       "6  0.758161  0.776479  0.076909  \n",
       "7  0.249127  0.345719  0.116196  \n",
       "8  0.023589  0.333533  0.524878  \n",
       "9  0.693986  0.761145  0.355358  "
      ]
     },
     "execution_count": 71,
     "metadata": {},
     "output_type": "execute_result"
    }
   ],
   "source": [
    "# making a dataframe\n",
    "df = pd.DataFrame({np.random.randint(0, 100): np.random.rand(10) for _ in range(10)})\n",
    "df"
   ]
  },
  {
   "cell_type": "code",
   "execution_count": 72,
   "metadata": {},
   "outputs": [
    {
     "name": "stdout",
     "output_type": "stream",
     "text": [
      "288\n"
     ]
    }
   ],
   "source": [
    "print(2*10^308) # python can handle large numbers till 1*10^308"
   ]
  },
  {
   "cell_type": "code",
   "execution_count": 73,
   "metadata": {},
   "outputs": [
    {
     "name": "stdout",
     "output_type": "stream",
     "text": [
      "(5, 6, 7, 8, 9)\n",
      "(5.0, 6.0, 7.0, 8.0, 9.0)\n",
      "hello, world!\n",
      "(True, False)\n",
      "((5+6j), (7+8j))\n",
      "range(0, 5)\n",
      "[5, 6, 7, 8, 9]\n",
      "(5, 6, 7, 8, 9)\n",
      "{5, 6, 7, 8, 9}\n",
      "frozenset({5, 6, 7, 8, 9})\n",
      "{5: 6, 7: 8, 9: 10}\n",
      "None\n"
     ]
    }
   ],
   "source": [
    "# datatypes in python\n",
    "# int, float, str, bool, complex, bytes, bytearray, range, list, tuple, set, frozenset, dict, None\n",
    "# int \n",
    "a = 5, 6, 7, 8, 9\n",
    "print(a) # int\n",
    "# float\n",
    "b = 5.0, 6.0, 7.0, 8.0, 9.0\n",
    "print(b) # float\n",
    "# str\n",
    "c = \"hello, world!\"\n",
    "print(c) # str\n",
    "# bool\n",
    "d = True, False\n",
    "print(d) # bool\n",
    "# complex\n",
    "e = 5 + 6j, 7 + 8j\n",
    "print(e) # complex\n",
    "# range\n",
    "f = range(5)\n",
    "print(f) # range\n",
    "# list\n",
    "g = [5, 6, 7, 8, 9]\n",
    "print(g) # list\n",
    "# tuple\n",
    "h = (5, 6, 7, 8, 9)\n",
    "print(h) # tuple\n",
    "# set\n",
    "i = {5, 6, 7, 8, 9}\n",
    "print(i) # set\n",
    "# frozenset\n",
    "j = frozenset({5, 6, 7, 8, 9})\n",
    "print(j) # frozenset\n",
    "# dict\n",
    "k = {5: 6, 7: 8, 9: 10}\n",
    "print(k) # dict\n",
    "# None\n",
    "l = None\n",
    "print(l) # None"
   ]
  },
  {
   "cell_type": "code",
   "execution_count": 74,
   "metadata": {},
   "outputs": [
    {
     "name": "stdout",
     "output_type": "stream",
     "text": [
      "b'5'\n",
      "bytearray(b'579')\n"
     ]
    }
   ],
   "source": [
    "# bytes \n",
    "f = b'5'\n",
    "print(f)\n",
    "# bytearray\n",
    "g = bytearray('579', encoding='utf-8')\n",
    "print(g)"
   ]
  },
  {
   "cell_type": "code",
   "execution_count": 75,
   "metadata": {},
   "outputs": [],
   "source": [
    "# Identifiers in python\n",
    "# Identifiers are the names given to the variables, functions, classes, etc. in Python."
   ]
  },
  {
   "cell_type": "code",
   "execution_count": 76,
   "metadata": {},
   "outputs": [
    {
     "name": "stdout",
     "output_type": "stream",
     "text": [
      "5 10\n"
     ]
    }
   ],
   "source": [
    "a = True + 4 # True is a boolean value and its values is 1\n",
    "b = False + 10 # False is a boolean value and its value is 0\n",
    "\n",
    "print(a, b)"
   ]
  },
  {
   "cell_type": "markdown",
   "metadata": {},
   "source": []
  },
  {
   "cell_type": "code",
   "execution_count": 77,
   "metadata": {},
   "outputs": [
    {
     "name": "stdout",
     "output_type": "stream",
     "text": [
      "5 0 0 0\n",
      "5\n"
     ]
    }
   ],
   "source": [
    "number = int(input(\"Enter a number: \"))\n",
    "\n",
    "a = number % 10\n",
    "number = number // 10\n",
    "b = number % 10\n",
    "number = number // 10\n",
    "c = number % 10\n",
    "number = number // 10\n",
    "\n",
    "print(a, b, c, number)\n",
    "print(a + b + c)\n"
   ]
  },
  {
   "cell_type": "code",
   "execution_count": 78,
   "metadata": {},
   "outputs": [
    {
     "name": "stdout",
     "output_type": "stream",
     "text": [
      "Invalid email or password\n"
     ]
    }
   ],
   "source": [
    "# if else and elif statements\n",
    "email = input(\"Enter your email: \")\n",
    "password = input(\"Enter your password: \")\n",
    "\n",
    "if email == 'abc@gmail.com' and password == '1234':\n",
    "    print(\"Welcome to the dashboard\")\n",
    "elif email == 'abc@gmail.com' and password != '1234':\n",
    "    print(\"Invalid password\")\n",
    "    password = input(\"Enter your password: \")\n",
    "    if password == '1234':\n",
    "        print(\"Welcome to the dashboard\")\n",
    "    else:\n",
    "        print(\"Invalid password\")\n",
    "else:\n",
    "    print(\"Invalid email or password\")"
   ]
  },
  {
   "cell_type": "code",
   "execution_count": 79,
   "metadata": {},
   "outputs": [
    {
     "name": "stdout",
     "output_type": "stream",
     "text": [
      "2\n"
     ]
    }
   ],
   "source": [
    "# min of 3 number\n",
    "a = int(input(\"Enter first number: \"))\n",
    "b = int(input(\"Enter second number: \"))\n",
    "c = int(input(\"Enter third number: \"))\n",
    "\n",
    "if a < b and a < c:\n",
    "    print(a)\n",
    "elif b < a and b < c:\n",
    "    print(b)\n",
    "else:\n",
    "    print(c)"
   ]
  },
  {
   "cell_type": "code",
   "execution_count": 80,
   "metadata": {},
   "outputs": [],
   "source": [
    "# math module\n",
    "import math "
   ]
  },
  {
   "cell_type": "code",
   "execution_count": 81,
   "metadata": {},
   "outputs": [
    {
     "name": "stdout",
     "output_type": "stream",
     "text": [
      "['False', 'None', 'True', 'and', 'as', 'assert', 'async', 'await', 'break', 'class', 'continue', 'def', 'del', 'elif', 'else', 'except', 'finally', 'for', 'from', 'global', 'if', 'import', 'in', 'is', 'lambda', 'nonlocal', 'not', 'or', 'pass', 'raise', 'return', 'try', 'while', 'with', 'yield']\n"
     ]
    }
   ],
   "source": [
    "# keywords module \n",
    "import keyword\n",
    "print(keyword.kwlist)"
   ]
  },
  {
   "cell_type": "code",
   "execution_count": 82,
   "metadata": {},
   "outputs": [
    {
     "name": "stdout",
     "output_type": "stream",
     "text": [
      "13\n"
     ]
    }
   ],
   "source": [
    "# random module\n",
    "import random\n",
    "print(random.randint(1,100))"
   ]
  },
  {
   "cell_type": "code",
   "execution_count": 83,
   "metadata": {},
   "outputs": [
    {
     "name": "stdout",
     "output_type": "stream",
     "text": [
      "2024-02-19 11:20:48.404892\n"
     ]
    }
   ],
   "source": [
    "# datetime module\n",
    "import datetime\n",
    "print(datetime.datetime.now())"
   ]
  },
  {
   "cell_type": "code",
   "execution_count": 85,
   "metadata": {},
   "outputs": [
    {
     "name": "stdout",
     "output_type": "stream",
     "text": [
      "The 7 * 1 = 7\n",
      "The 7 * 2 = 14\n",
      "The 7 * 3 = 21\n",
      "The 7 * 4 = 28\n",
      "The 7 * 5 = 35\n",
      "The 7 * 6 = 42\n",
      "The 7 * 7 = 49\n",
      "The 7 * 8 = 56\n",
      "The 7 * 9 = 63\n",
      "The 7 * 10 = 70\n"
     ]
    }
   ],
   "source": [
    "# Loops in Python (for loop, while loop, nested loop)\n",
    "# while loop\n",
    "number = int(input(\"Enter a number: \"))\n",
    "i = 1\n",
    "while i <= 10:\n",
    "    print(f\"The {number} * {i} = {number * i}\")\n",
    "    i += 1"
   ]
  },
  {
   "cell_type": "code",
   "execution_count": 86,
   "metadata": {},
   "outputs": [
    {
     "name": "stdout",
     "output_type": "stream",
     "text": [
      "1\n",
      "2\n",
      "3\n",
      "x is no longer less than 4\n"
     ]
    }
   ],
   "source": [
    "# while loop with else\n",
    "x = 1 \n",
    "while x < 4:\n",
    "    print(x)\n",
    "    x += 1\n",
    "\n",
    "else:\n",
    "    print(\"x is no longer less than 4\")"
   ]
  },
  {
   "cell_type": "code",
   "execution_count": 87,
   "metadata": {},
   "outputs": [
    {
     "name": "stdout",
     "output_type": "stream",
     "text": [
      "Too low\n",
      "Too low\n",
      "Too low\n",
      "Too low\n",
      "Too low\n",
      "Too low\n",
      "Too low\n",
      "Too low\n",
      "Too low\n",
      "Too low\n",
      "Too high\n",
      "Too low\n",
      "Too low\n",
      "Too low\n",
      "Too high\n",
      "Too high\n",
      "Too low\n",
      "Too low\n",
      "Too low\n",
      "Too low\n",
      "Too low\n",
      "You have guessed the correct number\n",
      "You have guessed the number in 22 attempts\n"
     ]
    }
   ],
   "source": [
    "# guessing game\n",
    "# generate a random onteger 1 to 100\n",
    "import random\n",
    "jackpot = random.randint(1, 100)\n",
    "# take a guess from the user\n",
    "guess = int(input(\"Enter your guess: \"))\n",
    "counter = 1\n",
    "while guess != jackpot:\n",
    "    if guess < jackpot:\n",
    "        print(\"Too low\")\n",
    "    else:\n",
    "        print(\"Too high\")\n",
    "    guess = int(input(\"Enter your guess: \"))\n",
    "    counter += 1\n",
    "else:\n",
    "    print(\"You have guessed the correct number\")\n",
    "    print(f\"You have guessed the number in {counter} attempts\")"
   ]
  },
  {
   "cell_type": "code",
   "execution_count": 88,
   "metadata": {},
   "outputs": [
    {
     "name": "stdout",
     "output_type": "stream",
     "text": [
      "1\n",
      "5\n",
      "9\n",
      "13\n",
      "17\n",
      "21\n",
      "25\n",
      "29\n"
     ]
    }
   ],
   "source": [
    "# for loop\n",
    "for i in range(1, 32, 4): # i in loop used for iteration\n",
    "    print(i)"
   ]
  },
  {
   "cell_type": "code",
   "execution_count": 89,
   "metadata": {},
   "outputs": [
    {
     "name": "stdout",
     "output_type": "stream",
     "text": [
      "8\n",
      "7\n",
      "6\n",
      "5\n",
      "4\n",
      "3\n",
      "2\n",
      "1\n"
     ]
    }
   ],
   "source": [
    "for i in range(8, 0, -1):\n",
    "    print(i)"
   ]
  },
  {
   "cell_type": "code",
   "execution_count": 90,
   "metadata": {},
   "outputs": [
    {
     "name": "stdout",
     "output_type": "stream",
     "text": [
      "L\n",
      "a\n",
      "h\n",
      "o\n",
      "r\n",
      "e\n"
     ]
    }
   ],
   "source": [
    "for i in 'Lahore': # i could be iterated over a string, list, tuple, set, dict, etc.\n",
    "    print(i)"
   ]
  },
  {
   "cell_type": "code",
   "execution_count": 91,
   "metadata": {},
   "outputs": [
    {
     "name": "stdout",
     "output_type": "stream",
     "text": [
      "1 241490000\n",
      "the population of the Pakistan after each year with the current rate of growth will be \n",
      " 247647995.0 this is for the coming 10 years\n",
      "2 247647995.0\n",
      "the population of the Pakistan after each year with the current rate of growth will be \n",
      " 253963018.8725 this is for the coming 10 years\n",
      "3 253963018.8725\n",
      "the population of the Pakistan after each year with the current rate of growth will be \n",
      " 260439075.85374874 this is for the coming 10 years\n",
      "4 260439075.85374874\n",
      "the population of the Pakistan after each year with the current rate of growth will be \n",
      " 267080272.28801933 this is for the coming 10 years\n",
      "5 267080272.28801933\n",
      "the population of the Pakistan after each year with the current rate of growth will be \n",
      " 273890819.23136383 this is for the coming 10 years\n",
      "6 273890819.23136383\n",
      "the population of the Pakistan after each year with the current rate of growth will be \n",
      " 280875035.1217636 this is for the coming 10 years\n",
      "7 280875035.1217636\n",
      "the population of the Pakistan after each year with the current rate of growth will be \n",
      " 288037348.51736856 this is for the coming 10 years\n",
      "8 288037348.51736856\n",
      "the population of the Pakistan after each year with the current rate of growth will be \n",
      " 295382300.90456146 this is for the coming 10 years\n",
      "9 295382300.90456146\n",
      "the population of the Pakistan after each year with the current rate of growth will be \n",
      " 302914549.5776278 this is for the coming 10 years\n",
      "10 302914549.5776278\n",
      "the population of the Pakistan after each year with the current rate of growth will be \n",
      " 310638870.5918573 this is for the coming 10 years\n"
     ]
    }
   ],
   "source": [
    "# example of for loop for a population of a town, which is incresing by 5% every year, and its current population\n",
    "# is 10000, and we want to find the population after 10 years\n",
    "curr_pop_pak = 241490000\n",
    "\n",
    "for i in range(1, 11):\n",
    "    print(i, curr_pop_pak)\n",
    "    curr_pop_pak = curr_pop_pak + (curr_pop_pak * 2.55) / 100\n",
    "\n",
    "    print(f\"the population of the Pakistan after each year with the current rate of growth will be \\n {curr_pop_pak} this is for the coming 10 years\")"
   ]
  },
  {
   "cell_type": "code",
   "execution_count": 92,
   "metadata": {},
   "outputs": [
    {
     "name": "stdout",
     "output_type": "stream",
     "text": [
      "10 10000\n",
      "9 9523.809523809523\n",
      "8 9070.294784580497\n",
      "7 8638.375985314759\n",
      "6 8227.024747918817\n",
      "5 7835.261664684587\n",
      "4 7462.153966366273\n",
      "3 7106.813301301212\n",
      "2 6768.393620286868\n",
      "1 6446.089162177969\n"
     ]
    }
   ],
   "source": [
    "curr_pop = 10000\n",
    "\n",
    "for i in range(10, 0, -1):\n",
    "    print(i, curr_pop)\n",
    "    curr_pop = curr_pop/1.05"
   ]
  },
  {
   "cell_type": "code",
   "execution_count": 93,
   "metadata": {},
   "outputs": [
    {
     "name": "stdout",
     "output_type": "stream",
     "text": [
      "2.7166666666666663\n"
     ]
    }
   ],
   "source": [
    "n = int(input('enter n: '))\n",
    "result = 0\n",
    "fact = 1\n",
    "\n",
    "for i in range(1, n+1):\n",
    "    fact = fact * i\n",
    "    result = result + i / fact\n",
    "\n",
    "print(result)"
   ]
  },
  {
   "cell_type": "code",
   "execution_count": 94,
   "metadata": {},
   "outputs": [
    {
     "name": "stdout",
     "output_type": "stream",
     "text": [
      "1 1\n",
      "1 2\n",
      "1 3\n",
      "1 4\n",
      "2 1\n",
      "2 2\n",
      "2 3\n",
      "2 4\n",
      "3 1\n",
      "3 2\n",
      "3 3\n",
      "3 4\n",
      "4 1\n",
      "4 2\n",
      "4 3\n",
      "4 4\n"
     ]
    }
   ],
   "source": [
    "for i in range(1, 5):\n",
    "    for j in range(1, 5):\n",
    "        print(i, j)"
   ]
  },
  {
   "cell_type": "code",
   "execution_count": 95,
   "metadata": {},
   "outputs": [
    {
     "name": "stdout",
     "output_type": "stream",
     "text": [
      "1 1 2 1 2 3 1 2 3 4 1 2 3 4 5 "
     ]
    }
   ],
   "source": [
    "# Pattern 1\n",
    "for i in range(1, 6):\n",
    "    for j in range(1, i+1):\n",
    "        print(j, end=\" \")"
   ]
  },
  {
   "cell_type": "code",
   "execution_count": 96,
   "metadata": {},
   "outputs": [
    {
     "name": "stdout",
     "output_type": "stream",
     "text": [
      "*\n",
      "**\n",
      "***\n",
      "****\n"
     ]
    }
   ],
   "source": [
    "rows = int(input(\"Enter the number of rows: \"))\n",
    "\n",
    "for i in range(1, rows+1):\n",
    "    for j in range(1, i+1):\n",
    "        print('*', end=\"\")\n",
    "    print()"
   ]
  },
  {
   "cell_type": "code",
   "execution_count": 97,
   "metadata": {},
   "outputs": [
    {
     "name": "stdout",
     "output_type": "stream",
     "text": [
      "1\n",
      "121\n",
      "12321\n",
      "1234321\n",
      "123454321\n",
      "12345654321\n"
     ]
    }
   ],
   "source": [
    "rows = int(input(\"enter number of rows \"))\n",
    "\n",
    "for i in range(1, rows+1):\n",
    "    for j in range(1,i+1):\n",
    "        print(j,end='')\n",
    "    for k in range(i-1, 0, -1):\n",
    "        print(k, end='')\n",
    "    print()"
   ]
  },
  {
   "cell_type": "code",
   "execution_count": 98,
   "metadata": {},
   "outputs": [
    {
     "name": "stdout",
     "output_type": "stream",
     "text": [
      "1\n",
      "121\n",
      "12321\n"
     ]
    }
   ],
   "source": [
    "rows = int(input('enter the number '))\n",
    "\n",
    "for i in range(1, rows+1):\n",
    "    for j in range(1, i+1):\n",
    "        print(j, end='')\n",
    "    for k in range(i-1, 0, -1):\n",
    "        print(k, end='')\n",
    "    print()"
   ]
  },
  {
   "cell_type": "code",
   "execution_count": 99,
   "metadata": {},
   "outputs": [
    {
     "name": "stdout",
     "output_type": "stream",
     "text": [
      "1\n",
      "2\n",
      "3\n",
      "4\n",
      "5\n",
      "6\n"
     ]
    }
   ],
   "source": [
    "# break and continue statements\n",
    "for i in range(1, 12):\n",
    "    if i == 7:\n",
    "        break\n",
    "    print(i)"
   ]
  },
  {
   "cell_type": "code",
   "execution_count": 100,
   "metadata": {},
   "outputs": [
    {
     "name": "stdout",
     "output_type": "stream",
     "text": [
      "2\n",
      "3\n",
      "5\n",
      "7\n",
      "11\n",
      "13\n",
      "17\n",
      "19\n",
      "23\n",
      "29\n",
      "31\n",
      "37\n",
      "41\n",
      "43\n",
      "47\n"
     ]
    }
   ],
   "source": [
    "lower = int(input(\"enter lower range: \"))\n",
    "upper = int(input(\"enter upper range: \"))\n",
    "\n",
    "for i in range(lower, upper+1):\n",
    "    for j in range(2, i):\n",
    "        if i % j == 0:\n",
    "            break\n",
    "    else:\n",
    "        print(i)"
   ]
  },
  {
   "cell_type": "code",
   "execution_count": 101,
   "metadata": {},
   "outputs": [
    {
     "name": "stdout",
     "output_type": "stream",
     "text": [
      "1\n",
      "2\n",
      "3\n",
      "4\n",
      "6\n",
      "7\n",
      "8\n",
      "9\n"
     ]
    }
   ],
   "source": [
    "# continue statement\n",
    "for i in range(1, 10):\n",
    "    if i == 5:\n",
    "        continue\n",
    "    print(i)"
   ]
  },
  {
   "cell_type": "code",
   "execution_count": 102,
   "metadata": {},
   "outputs": [],
   "source": [
    "# pass statement\n",
    "for i in range(1, 10):\n",
    "    pass\n"
   ]
  },
  {
   "cell_type": "code",
   "execution_count": 103,
   "metadata": {},
   "outputs": [
    {
     "name": "stdout",
     "output_type": "stream",
     "text": [
      "h\n"
     ]
    }
   ],
   "source": [
    "s = 'hello world'\n",
    "print(s[0])"
   ]
  },
  {
   "cell_type": "code",
   "execution_count": 104,
   "metadata": {},
   "outputs": [
    {
     "name": "stdout",
     "output_type": "stream",
     "text": [
      "hello\n"
     ]
    }
   ],
   "source": [
    "print(s[0:5])"
   ]
  },
  {
   "cell_type": "code",
   "execution_count": 105,
   "metadata": {},
   "outputs": [
    {
     "name": "stdout",
     "output_type": "stream",
     "text": [
      "r\n"
     ]
    }
   ],
   "source": [
    "print(s[-3])"
   ]
  },
  {
   "cell_type": "code",
   "execution_count": 106,
   "metadata": {},
   "outputs": [
    {
     "name": "stdout",
     "output_type": "stream",
     "text": [
      "hl\n"
     ]
    }
   ],
   "source": [
    "print(s[0:6:3]) # slicing with step"
   ]
  },
  {
   "cell_type": "code",
   "execution_count": 107,
   "metadata": {},
   "outputs": [
    {
     "name": "stdout",
     "output_type": "stream",
     "text": [
      "wol\n"
     ]
    }
   ],
   "source": [
    "print(s[6:0:-2])"
   ]
  },
  {
   "cell_type": "code",
   "execution_count": 108,
   "metadata": {},
   "outputs": [
    {
     "name": "stdout",
     "output_type": "stream",
     "text": [
      "dlrow olleh\n"
     ]
    }
   ],
   "source": [
    "print(s[::-1]) # reverse the string"
   ]
  },
  {
   "cell_type": "code",
   "execution_count": 109,
   "metadata": {},
   "outputs": [
    {
     "name": "stdout",
     "output_type": "stream",
     "text": [
      "world\n"
     ]
    }
   ],
   "source": [
    "s = 'hello world'\n",
    "print(s[-5:])"
   ]
  },
  {
   "cell_type": "code",
   "execution_count": 110,
   "metadata": {},
   "outputs": [
    {
     "name": "stdout",
     "output_type": "stream",
     "text": [
      "dlrow\n"
     ]
    }
   ],
   "source": [
    "print(s[-1:-6:-1]) # reverse of one string word"
   ]
  },
  {
   "cell_type": "code",
   "execution_count": 111,
   "metadata": {},
   "outputs": [
    {
     "name": "stdout",
     "output_type": "stream",
     "text": [
      "HELLO WORLD\n"
     ]
    }
   ],
   "source": [
    "s = 'hello world'\n",
    "print(s.upper()) # upper case"
   ]
  },
  {
   "cell_type": "code",
   "execution_count": 112,
   "metadata": {},
   "outputs": [
    {
     "name": "stdout",
     "output_type": "stream",
     "text": [
      "hello world\n"
     ]
    }
   ],
   "source": [
    "s = 'HELLO WORLD'\n",
    "print(s.lower()) # lower case"
   ]
  },
  {
   "cell_type": "code",
   "execution_count": 113,
   "metadata": {},
   "outputs": [
    {
     "name": "stdout",
     "output_type": "stream",
     "text": [
      "Hello world\n"
     ]
    }
   ],
   "source": [
    "s = 'hello world'\n",
    "print(s.capitalize()) # capitalize the first letter of the string"
   ]
  },
  {
   "cell_type": "code",
   "execution_count": 114,
   "metadata": {},
   "outputs": [],
   "source": [
    "s = 'hello world'\n",
    "# s[0] = 'H' # strings are immutable"
   ]
  },
  {
   "cell_type": "code",
   "execution_count": 115,
   "metadata": {},
   "outputs": [],
   "source": [
    "# delete the string\n",
    "s = 'hello world'\n",
    "del s\n",
    "# print(s) # the string has been deleted"
   ]
  },
  {
   "cell_type": "code",
   "execution_count": 116,
   "metadata": {},
   "outputs": [
    {
     "name": "stdout",
     "output_type": "stream",
     "text": [
      "hello world\n"
     ]
    }
   ],
   "source": [
    "s = 'hello world'\n",
    "# del s[-1:-5:2] # the portions of the string can not be deleted\n",
    "print(s)"
   ]
  },
  {
   "cell_type": "code",
   "execution_count": 117,
   "metadata": {},
   "outputs": [],
   "source": [
    "# arithmetic operators\n",
    "# relational operators\n",
    "# logical operators\n",
    "# loop on strings\n",
    "# membership operators"
   ]
  },
  {
   "cell_type": "code",
   "execution_count": 118,
   "metadata": {},
   "outputs": [
    {
     "name": "stdout",
     "output_type": "stream",
     "text": [
      "lahore karachi\n"
     ]
    }
   ],
   "source": [
    "print('lahore' + ' ' + 'karachi') # arithmetic operator + and * can be used with strings only"
   ]
  },
  {
   "cell_type": "code",
   "execution_count": 119,
   "metadata": {},
   "outputs": [
    {
     "name": "stdout",
     "output_type": "stream",
     "text": [
      "Lahore Lahore Lahore \n"
     ]
    }
   ],
   "source": [
    "print('Lahore '*3)"
   ]
  },
  {
   "cell_type": "code",
   "execution_count": 120,
   "metadata": {},
   "outputs": [
    {
     "name": "stdout",
     "output_type": "stream",
     "text": [
      "**************************************************\n"
     ]
    }
   ],
   "source": [
    "print(\"*\"*50)"
   ]
  },
  {
   "cell_type": "code",
   "execution_count": 121,
   "metadata": {},
   "outputs": [
    {
     "data": {
      "text/plain": [
       "False"
      ]
     },
     "execution_count": 121,
     "metadata": {},
     "output_type": "execute_result"
    }
   ],
   "source": [
    "# Relational Operators\n",
    "'Lahore' != 'Lahore'"
   ]
  },
  {
   "cell_type": "code",
   "execution_count": 122,
   "metadata": {},
   "outputs": [
    {
     "data": {
      "text/plain": [
       "False"
      ]
     },
     "execution_count": 122,
     "metadata": {},
     "output_type": "execute_result"
    }
   ],
   "source": [
    "'Lahore' > 'Multan'\n",
    "# in this scenario the comparison is done on the basis of the ASCII values of the characters of the strings\n",
    "# It is also called Lexicographical comparison, in this the comparison operator takes the last values as bigger than the first values."
   ]
  },
  {
   "cell_type": "code",
   "execution_count": 123,
   "metadata": {},
   "outputs": [
    {
     "data": {
      "text/plain": [
       "'world'"
      ]
     },
     "execution_count": 123,
     "metadata": {},
     "output_type": "execute_result"
    }
   ],
   "source": [
    "# logical operators\n",
    "# and, or, not\n",
    "'hello' and 'world' # the and operator returns the second value if the first value is true"
   ]
  },
  {
   "cell_type": "code",
   "execution_count": 124,
   "metadata": {},
   "outputs": [
    {
     "data": {
      "text/plain": [
       "'hello'"
      ]
     },
     "execution_count": 124,
     "metadata": {},
     "output_type": "execute_result"
    }
   ],
   "source": [
    "'hello' or 'world' # the or operator returns the first value if the first value is true"
   ]
  },
  {
   "cell_type": "code",
   "execution_count": 125,
   "metadata": {},
   "outputs": [],
   "source": [
    "# in python the empty strings consider as false and the non empty strings consider as true\n",
    "# the empty list, tuple, set, dict, etc. consider as false and the non empty list, tuple, set, dict, etc. consider as true\n",
    "# the 0 consider as false and the non zero values consider as true\n",
    "# in the \"and\" operator if the both values are true then returns True otherwise returns False\n",
    "# in the \"or\" operator if the both values are false then returns False otherwise returns True"
   ]
  },
  {
   "cell_type": "code",
   "execution_count": 126,
   "metadata": {},
   "outputs": [
    {
     "data": {
      "text/plain": [
       "''"
      ]
     },
     "execution_count": 126,
     "metadata": {},
     "output_type": "execute_result"
    }
   ],
   "source": [
    "'' and 'world'"
   ]
  },
  {
   "cell_type": "code",
   "execution_count": 127,
   "metadata": {},
   "outputs": [
    {
     "data": {
      "text/plain": [
       "'world'"
      ]
     },
     "execution_count": 127,
     "metadata": {},
     "output_type": "execute_result"
    }
   ],
   "source": [
    "'' or 'world'"
   ]
  },
  {
   "cell_type": "code",
   "execution_count": 128,
   "metadata": {},
   "outputs": [
    {
     "data": {
      "text/plain": [
       "True"
      ]
     },
     "execution_count": 128,
     "metadata": {},
     "output_type": "execute_result"
    }
   ],
   "source": [
    "not ''"
   ]
  },
  {
   "cell_type": "code",
   "execution_count": 129,
   "metadata": {},
   "outputs": [
    {
     "data": {
      "text/plain": [
       "False"
      ]
     },
     "execution_count": 129,
     "metadata": {},
     "output_type": "execute_result"
    }
   ],
   "source": [
    "not 'hello'"
   ]
  },
  {
   "cell_type": "code",
   "execution_count": 130,
   "metadata": {},
   "outputs": [
    {
     "name": "stdout",
     "output_type": "stream",
     "text": [
      "h\n",
      "e\n",
      "l\n",
      "l\n",
      "o\n"
     ]
    }
   ],
   "source": [
    "# loops in strings\n",
    "for i in 'hello': # the string is iterable, so it can be iterated over\n",
    "    print(i)"
   ]
  },
  {
   "cell_type": "code",
   "execution_count": 131,
   "metadata": {},
   "outputs": [
    {
     "name": "stdout",
     "output_type": "stream",
     "text": [
      "Multan\n",
      "Multan\n",
      "Multan\n",
      "Multan\n",
      "Multan\n",
      "Multan\n"
     ]
    }
   ],
   "source": [
    "for i in 'Lahore': \n",
    "    print('Multan')"
   ]
  },
  {
   "cell_type": "code",
   "execution_count": 132,
   "metadata": {},
   "outputs": [],
   "source": [
    "# common functions of strings\n",
    "# len, max, min, sorted, reversed, \n",
    "# join, split, replace, find, index, count, \n",
    "# isalpha, isdigit, isalnum, islower, isupper, \n",
    "# istitle, isspace, startswith, endswith,\n",
    "# lower, upper, capitalize, title, swapcase, \n",
    "# center, ljust, rjust, strip, lstrip, rstrip, zfill,\n",
    "# format, format_map, encode, decode, expandtabs,\n",
    "# casefold, translate, maketrans, partition, rpartition,\n",
    "# rfind, rindex, rsplit, rstrip, splitlines, translate,\n",
    "# isascii, isdecimal, isidentifier, isnumeric, isprintable,\n",
    "# center, ljust, rjust, zfill, format, format_map, encode,\n",
    "# decode, expandtabs, casefold, translate, maketrans, partition,\n",
    "# rpartition, rfind, rindex, rsplit, rstrip, splitlines, translate,\n",
    "# isascii, isdecimal, isidentifier, isnumeric, isprintable"
   ]
  },
  {
   "cell_type": "code",
   "execution_count": 133,
   "metadata": {},
   "outputs": [
    {
     "data": {
      "text/plain": [
       "11"
      ]
     },
     "execution_count": 133,
     "metadata": {},
     "output_type": "execute_result"
    }
   ],
   "source": [
    "len('hello world')"
   ]
  },
  {
   "cell_type": "code",
   "execution_count": 134,
   "metadata": {},
   "outputs": [
    {
     "data": {
      "text/plain": [
       "'w'"
      ]
     },
     "execution_count": 134,
     "metadata": {},
     "output_type": "execute_result"
    }
   ],
   "source": [
    "max('hello world') # maximum value of the string on the ASCII basis"
   ]
  },
  {
   "cell_type": "code",
   "execution_count": 135,
   "metadata": {},
   "outputs": [
    {
     "data": {
      "text/plain": [
       "' '"
      ]
     },
     "execution_count": 135,
     "metadata": {},
     "output_type": "execute_result"
    }
   ],
   "source": [
    "min('hello world') # minimum value of the string on the ASCII basis"
   ]
  },
  {
   "cell_type": "code",
   "execution_count": 136,
   "metadata": {},
   "outputs": [
    {
     "data": {
      "text/plain": [
       "[' ', 'd', 'e', 'h', 'l', 'l', 'l', 'o', 'o', 'r', 'w']"
      ]
     },
     "execution_count": 136,
     "metadata": {},
     "output_type": "execute_result"
    }
   ],
   "source": [
    "sorted('hello world') # sort the string on the ASCII basis  "
   ]
  },
  {
   "cell_type": "code",
   "execution_count": 137,
   "metadata": {},
   "outputs": [
    {
     "data": {
      "text/plain": [
       "['w', 'r', 'o', 'o', 'l', 'l', 'l', 'h', 'e', 'd', ' ']"
      ]
     },
     "execution_count": 137,
     "metadata": {},
     "output_type": "execute_result"
    }
   ],
   "source": [
    "sorted('hello world', reverse=True) # sort the string on the ASCII basis "
   ]
  },
  {
   "cell_type": "code",
   "execution_count": 138,
   "metadata": {},
   "outputs": [],
   "source": [
    "# some functions that are used only with the strings\n",
    "# capitalize, title, swapcase, lower, upper, casefold,"
   ]
  },
  {
   "cell_type": "code",
   "execution_count": 139,
   "metadata": {},
   "outputs": [
    {
     "data": {
      "text/plain": [
       "'Hello world'"
      ]
     },
     "execution_count": 139,
     "metadata": {},
     "output_type": "execute_result"
    }
   ],
   "source": [
    "s = 'hello world'\n",
    "s.capitalize() # capitalize the first letter of the string"
   ]
  },
  {
   "cell_type": "code",
   "execution_count": 140,
   "metadata": {},
   "outputs": [
    {
     "data": {
      "text/plain": [
       "'Hello World'"
      ]
     },
     "execution_count": 140,
     "metadata": {},
     "output_type": "execute_result"
    }
   ],
   "source": [
    "s = 'hello world'\n",
    "s.title() # capitalize the first letter of each word of the string"
   ]
  },
  {
   "cell_type": "code",
   "execution_count": 141,
   "metadata": {},
   "outputs": [
    {
     "data": {
      "text/plain": [
       "'HELLO WORLD'"
      ]
     },
     "execution_count": 141,
     "metadata": {},
     "output_type": "execute_result"
    }
   ],
   "source": [
    "s.swapcase() # swap the case of the string"
   ]
  },
  {
   "cell_type": "code",
   "execution_count": 142,
   "metadata": {},
   "outputs": [
    {
     "data": {
      "text/plain": [
       "'HELLO WORLD'"
      ]
     },
     "execution_count": 142,
     "metadata": {},
     "output_type": "execute_result"
    }
   ],
   "source": [
    "s = 'hello world'\n",
    "s.upper() # convert the string into upper case"
   ]
  },
  {
   "cell_type": "code",
   "execution_count": 143,
   "metadata": {},
   "outputs": [
    {
     "data": {
      "text/plain": [
       "'hello world'"
      ]
     },
     "execution_count": 143,
     "metadata": {},
     "output_type": "execute_result"
    }
   ],
   "source": [
    "s.lower() # convert the string into lower case"
   ]
  },
  {
   "cell_type": "code",
   "execution_count": 145,
   "metadata": {},
   "outputs": [
    {
     "data": {
      "text/plain": [
       "'hello world'"
      ]
     },
     "execution_count": 145,
     "metadata": {},
     "output_type": "execute_result"
    }
   ],
   "source": [
    "s.casefold() # convert the string into lower case"
   ]
  },
  {
   "cell_type": "code",
   "execution_count": 144,
   "metadata": {},
   "outputs": [],
   "source": [
    "# count, find, index, replace, split, join"
   ]
  },
  {
   "cell_type": "code",
   "execution_count": 147,
   "metadata": {},
   "outputs": [
    {
     "data": {
      "text/plain": [
       "2"
      ]
     },
     "execution_count": 147,
     "metadata": {},
     "output_type": "execute_result"
    }
   ],
   "source": [
    "a = 'my name is Hasnain'\n",
    "a.count('i')"
   ]
  },
  {
   "cell_type": "code",
   "execution_count": 148,
   "metadata": {},
   "outputs": [
    {
     "data": {
      "text/plain": [
       "8"
      ]
     },
     "execution_count": 148,
     "metadata": {},
     "output_type": "execute_result"
    }
   ],
   "source": [
    "a.find('is')"
   ]
  },
  {
   "cell_type": "code",
   "execution_count": 150,
   "metadata": {},
   "outputs": [
    {
     "data": {
      "text/plain": [
       "-1"
      ]
     },
     "execution_count": 150,
     "metadata": {},
     "output_type": "execute_result"
    }
   ],
   "source": [
    "a.find('x')"
   ]
  },
  {
   "cell_type": "code",
   "execution_count": 149,
   "metadata": {},
   "outputs": [
    {
     "data": {
      "text/plain": [
       "8"
      ]
     },
     "execution_count": 149,
     "metadata": {},
     "output_type": "execute_result"
    }
   ],
   "source": [
    "a.index('is')"
   ]
  },
  {
   "cell_type": "code",
   "execution_count": 155,
   "metadata": {},
   "outputs": [
    {
     "data": {
      "text/plain": [
       "'my name is Haroon'"
      ]
     },
     "execution_count": 155,
     "metadata": {},
     "output_type": "execute_result"
    }
   ],
   "source": [
    "a.replace('Hasnain', 'Haroon') # replace the first value with the second value"
   ]
  },
  {
   "cell_type": "code",
   "execution_count": 156,
   "metadata": {},
   "outputs": [
    {
     "data": {
      "text/plain": [
       "['my', 'name', 'is', 'Hasnain']"
      ]
     },
     "execution_count": 156,
     "metadata": {},
     "output_type": "execute_result"
    }
   ],
   "source": [
    "a.split(' ')"
   ]
  },
  {
   "cell_type": "code",
   "execution_count": 162,
   "metadata": {},
   "outputs": [
    {
     "data": {
      "text/plain": [
       "'my name is Hasnain'"
      ]
     },
     "execution_count": 162,
     "metadata": {},
     "output_type": "execute_result"
    }
   ],
   "source": [
    "a.join(' ') # join the string with the given value\n",
    "a"
   ]
  },
  {
   "cell_type": "code",
   "execution_count": 163,
   "metadata": {},
   "outputs": [
    {
     "data": {
      "text/plain": [
       "True"
      ]
     },
     "execution_count": 163,
     "metadata": {},
     "output_type": "execute_result"
    }
   ],
   "source": [
    "# endswith, startswith \n",
    "'my name is haroon'.endswith('on')"
   ]
  },
  {
   "cell_type": "code",
   "execution_count": 164,
   "metadata": {},
   "outputs": [
    {
     "data": {
      "text/plain": [
       "True"
      ]
     },
     "execution_count": 164,
     "metadata": {},
     "output_type": "execute_result"
    }
   ],
   "source": [
    "'my name is haroon'.startswith('my')"
   ]
  },
  {
   "cell_type": "code",
   "execution_count": 169,
   "metadata": {},
   "outputs": [
    {
     "data": {
      "text/plain": [
       "'Hi my name is haroon, I am a male, and my age is 35'"
      ]
     },
     "execution_count": 169,
     "metadata": {},
     "output_type": "execute_result"
    }
   ],
   "source": [
    "# format, format_map\n",
    "name = 'haroon'\n",
    "gender = 'male'\n",
    "age = 35\n",
    "\n",
    "# 'Hi my name is {}, I am a {}, and my age is {}'.format(name, gender, age) # first method\n",
    "b = 'Hi my name is {}, I am a {}, and my age is {}'\n",
    "b.format(name, gender, age) # second method # use as per the positioning of the values"
   ]
  },
  {
   "cell_type": "code",
   "execution_count": 170,
   "metadata": {},
   "outputs": [],
   "source": [
    "# isalnum, isalpha, isdigit, isidentifier "
   ]
  },
  {
   "cell_type": "code",
   "execution_count": 171,
   "metadata": {},
   "outputs": [
    {
     "data": {
      "text/plain": [
       "True"
      ]
     },
     "execution_count": 171,
     "metadata": {},
     "output_type": "execute_result"
    }
   ],
   "source": [
    "'haroon669'.isalnum()"
   ]
  },
  {
   "cell_type": "code",
   "execution_count": 172,
   "metadata": {},
   "outputs": [
    {
     "data": {
      "text/plain": [
       "False"
      ]
     },
     "execution_count": 172,
     "metadata": {},
     "output_type": "execute_result"
    }
   ],
   "source": [
    "'haroon@669'.isalnum()"
   ]
  },
  {
   "cell_type": "code",
   "execution_count": 174,
   "metadata": {},
   "outputs": [
    {
     "data": {
      "text/plain": [
       "True"
      ]
     },
     "execution_count": 174,
     "metadata": {},
     "output_type": "execute_result"
    }
   ],
   "source": [
    "'haroon'.isalpha()"
   ]
  },
  {
   "cell_type": "code",
   "execution_count": 175,
   "metadata": {},
   "outputs": [
    {
     "data": {
      "text/plain": [
       "False"
      ]
     },
     "execution_count": 175,
     "metadata": {},
     "output_type": "execute_result"
    }
   ],
   "source": [
    "'haroon669'.isalpha()"
   ]
  },
  {
   "cell_type": "code",
   "execution_count": 176,
   "metadata": {},
   "outputs": [
    {
     "data": {
      "text/plain": [
       "True"
      ]
     },
     "execution_count": 176,
     "metadata": {},
     "output_type": "execute_result"
    }
   ],
   "source": [
    "'669'.isdigit()"
   ]
  },
  {
   "cell_type": "code",
   "execution_count": 177,
   "metadata": {},
   "outputs": [
    {
     "data": {
      "text/plain": [
       "False"
      ]
     },
     "execution_count": 177,
     "metadata": {},
     "output_type": "execute_result"
    }
   ],
   "source": [
    "'abd669'.isdigit()"
   ]
  },
  {
   "cell_type": "code",
   "execution_count": 178,
   "metadata": {},
   "outputs": [
    {
     "data": {
      "text/plain": [
       "False"
      ]
     },
     "execution_count": 178,
     "metadata": {},
     "output_type": "execute_result"
    }
   ],
   "source": [
    "'1name'.isidentifier()"
   ]
  },
  {
   "cell_type": "code",
   "execution_count": 179,
   "metadata": {},
   "outputs": [
    {
     "data": {
      "text/plain": [
       "True"
      ]
     },
     "execution_count": 179,
     "metadata": {},
     "output_type": "execute_result"
    }
   ],
   "source": [
    "'name1'.isidentifier()"
   ]
  },
  {
   "cell_type": "code",
   "execution_count": 180,
   "metadata": {},
   "outputs": [
    {
     "data": {
      "text/plain": [
       "True"
      ]
     },
     "execution_count": 180,
     "metadata": {},
     "output_type": "execute_result"
    }
   ],
   "source": [
    "'first_name'.isidentifier()"
   ]
  },
  {
   "cell_type": "code",
   "execution_count": 187,
   "metadata": {},
   "outputs": [
    {
     "data": {
      "text/plain": [
       "['hi', 'my', 'name', 'is', 'haroon']"
      ]
     },
     "execution_count": 187,
     "metadata": {},
     "output_type": "execute_result"
    }
   ],
   "source": [
    "# split and join\n",
    "\n",
    "'hi my name is haroon'.split() # we use split on spaces or other delimiters or characters"
   ]
  },
  {
   "cell_type": "code",
   "execution_count": 188,
   "metadata": {},
   "outputs": [
    {
     "data": {
      "text/plain": [
       "'hi my name is haroon'"
      ]
     },
     "execution_count": 188,
     "metadata": {},
     "output_type": "execute_result"
    }
   ],
   "source": [
    "' '.join(['hi', 'my', 'name', 'is', 'haroon']) # we use join to join the strings with the given delimiter"
   ]
  },
  {
   "cell_type": "code",
   "execution_count": 190,
   "metadata": {},
   "outputs": [
    {
     "data": {
      "text/plain": [
       "'hi my name is hasnain'"
      ]
     },
     "execution_count": 190,
     "metadata": {},
     "output_type": "execute_result"
    }
   ],
   "source": [
    "# replace\n",
    "'hi my name is haroon'.replace('haroon', 'hasnain') # first value is being replaced with the second value"
   ]
  },
  {
   "cell_type": "code",
   "execution_count": 191,
   "metadata": {},
   "outputs": [
    {
     "data": {
      "text/plain": [
       "'hello world'"
      ]
     },
     "execution_count": 191,
     "metadata": {},
     "output_type": "execute_result"
    }
   ],
   "source": [
    "# strip\n",
    "'    hello world    '.strip() # remove the spaces from the start and end of the string"
   ]
  },
  {
   "cell_type": "code",
   "execution_count": 1,
   "metadata": {},
   "outputs": [
    {
     "name": "stdout",
     "output_type": "stream",
     "text": [
      "length of string is:  7\n"
     ]
    }
   ],
   "source": [
    "# find the length of the string\n",
    "s = input(\"Enter a string: \")\n",
    "\n",
    "counter = 0\n",
    "for i in s:\n",
    "    counter += 1\n",
    "    \n",
    "print('length of string is: ', counter)\n"
   ]
  },
  {
   "cell_type": "code",
   "execution_count": 3,
   "metadata": {},
   "outputs": [
    {
     "name": "stdout",
     "output_type": "stream",
     "text": [
      "hasnain\n"
     ]
    }
   ],
   "source": [
    "# extract the name from the email\n",
    "s = input(\"Enter a email: \")\n",
    "\n",
    "position = s.index('@')\n",
    "print(s[0:position])"
   ]
  },
  {
   "cell_type": "code",
   "execution_count": 5,
   "metadata": {},
   "outputs": [
    {
     "name": "stdout",
     "output_type": "stream",
     "text": [
      "The frequency of the 'o' in the string is: 3\n"
     ]
    }
   ],
   "source": [
    "# count the frequency of the particular character in the string\n",
    "\n",
    "s = input(\"Enter a string: \")\n",
    "term = input(\"what would you like to search: \")\n",
    "\n",
    "counter = 0\n",
    "for i in s:\n",
    "    if i == term:\n",
    "        counter += 1\n",
    "\n",
    "print(f\"The frequency of the '{term}' in the string is: {counter}\")"
   ]
  },
  {
   "cell_type": "code",
   "execution_count": 7,
   "metadata": {},
   "outputs": [
    {
     "name": "stdout",
     "output_type": "stream",
     "text": [
      "hasai\n"
     ]
    }
   ],
   "source": [
    "# remove the particular character from the string\n",
    "s = input(\"Enter a string: \")\n",
    "term = input(\"what would you like to remove: \")\n",
    "\n",
    "new_s = ''\n",
    "\n",
    "for i in s:\n",
    "    if i != term:\n",
    "        new_s += i \n",
    "\n",
    "print(new_s)"
   ]
  },
  {
   "cell_type": "code",
   "execution_count": 9,
   "metadata": {},
   "outputs": [
    {
     "name": "stdout",
     "output_type": "stream",
     "text": [
      "Palindrome\n"
     ]
    }
   ],
   "source": [
    "# check the palindrome\n",
    "\n",
    "s = input(\"enter the string: \")\n",
    "flag = True\n",
    "for i in range(0, len(s)//2):\n",
    "    if s[i] != s[len(s) -i -1]:\n",
    "        flag = False\n",
    "        print('Not a Palindrome')\n",
    "        break\n",
    "\n",
    "if flag:\n",
    "    print('Palindrome')"
   ]
  },
  {
   "cell_type": "code",
   "execution_count": 13,
   "metadata": {},
   "outputs": [
    {
     "name": "stdout",
     "output_type": "stream",
     "text": [
      "['hi', 'how', 'are', 'you']\n"
     ]
    }
   ],
   "source": [
    "s = input(\"Enter a string: \")\n",
    "L = []\n",
    "word = ''\n",
    "for i in s:\n",
    "    if i != ' ':\n",
    "        word = word + i\n",
    "    else:\n",
    "        L.append(word)\n",
    "        word = ''\n",
    "L.append(word)\n",
    "print(L)"
   ]
  },
  {
   "cell_type": "code",
   "execution_count": 16,
   "metadata": {},
   "outputs": [
    {
     "name": "stdout",
     "output_type": "stream",
     "text": [
      "Hi How Are You\n"
     ]
    }
   ],
   "source": [
    "# covert a string's first letter in upper case without using the title function\n",
    "s = input(\"Enter a string: \")\n",
    "\n",
    "L = []\n",
    "for i in s.split():\n",
    "    L.append(i[0].upper() + i[1:])\n",
    "\n",
    "print(\" \".join(L))"
   ]
  },
  {
   "cell_type": "code",
   "execution_count": 19,
   "metadata": {},
   "outputs": [
    {
     "name": "stdout",
     "output_type": "stream",
     "text": [
      "480\n",
      "<class 'str'>\n"
     ]
    }
   ],
   "source": [
    "# convert an integer into a string without using the str function\n",
    "number = int(input(\"Enter a number: \"))\n",
    "\n",
    "digits = '0123456789'\n",
    "\n",
    "result = ''\n",
    "while number != 0:\n",
    "    result = digits[number % 10] + result\n",
    "    number = number // 10\n",
    "\n",
    "print(result)\n",
    "print(type(result))"
   ]
  },
  {
   "cell_type": "code",
   "execution_count": null,
   "metadata": {},
   "outputs": [],
   "source": [
    "# for resume portfolio\n",
    "# good sites\n",
    "# htmlup"
   ]
  },
  {
   "cell_type": "markdown",
   "metadata": {},
   "source": [
    "# List"
   ]
  },
  {
   "cell_type": "code",
   "execution_count": null,
   "metadata": {},
   "outputs": [],
   "source": [
    "# in list we can store the multiple values of the same or different datatypes\n",
    "# list is mutable, # list is iterable, # list is ordered, # list is indexed, # list is dynamic\n",
    "# list can be nested, # list can be sliced, # list can be concatenated, # list can be repeated \n",
    "# list can be iterated over the loop, # list can be sorted, # list can be reversed, # list can be copied\n",
    "# list can be extended, # list can be appended, # list can be inserted, # list can be removed\n",
    "# list can be popped, # list can be cleared, # list can be checked for the particular value\n",
    "\n",
    "# list can be created by using the square brackets"
   ]
  },
  {
   "cell_type": "code",
   "execution_count": 21,
   "metadata": {},
   "outputs": [
    {
     "name": "stdout",
     "output_type": "stream",
     "text": [
      "140714423522120\n"
     ]
    }
   ],
   "source": [
    "a = 2 \n",
    "print(id(a)) # id is the address of the variable in the memory, it is unique for each variable"
   ]
  },
  {
   "cell_type": "code",
   "execution_count": 23,
   "metadata": {},
   "outputs": [
    {
     "name": "stdout",
     "output_type": "stream",
     "text": [
      "2617770484992\n",
      "140714423522216\n",
      "140714423522248\n",
      "140714423522280\n",
      "140714423522312\n",
      "140714423522344\n",
      "140714423522216\n",
      "140714423522248\n",
      "140714423522280\n",
      "140714423522312\n",
      "140714423522344\n"
     ]
    }
   ],
   "source": [
    "L = [5, 6, 7, 8, 9]\n",
    "\n",
    "print(id(L))\n",
    "print(id(L[0]))\n",
    "print(id(L[1]))\n",
    "print(id(L[2]))\n",
    "print(id(L[3]))\n",
    "print(id(L[4]))\n",
    "print(id(5))\n",
    "print(id(6))\n",
    "print(id(7))\n",
    "print(id(8))\n",
    "print(id(9)) # the id of the list and the id of the elements of the list are different in the memory"
   ]
  },
  {
   "cell_type": "code",
   "execution_count": 24,
   "metadata": {},
   "outputs": [],
   "source": [
    "# list is a dynamic array, it can store the multiple values of the same or different datatypes"
   ]
  },
  {
   "cell_type": "code",
   "execution_count": 26,
   "metadata": {},
   "outputs": [
    {
     "name": "stdout",
     "output_type": "stream",
     "text": [
      "[]\n"
     ]
    }
   ],
   "source": [
    "# creating a list\n",
    "# empty list\n",
    "L = []\n",
    "print(L)"
   ]
  },
  {
   "cell_type": "code",
   "execution_count": 27,
   "metadata": {},
   "outputs": [
    {
     "name": "stdout",
     "output_type": "stream",
     "text": [
      "[5, 6, 7, 8, 9]\n"
     ]
    }
   ],
   "source": [
    "# iD list\n",
    "L = [5, 6, 7, 8, 9]\n",
    "print(L)"
   ]
  },
  {
   "cell_type": "code",
   "execution_count": 30,
   "metadata": {},
   "outputs": [
    {
     "name": "stdout",
     "output_type": "stream",
     "text": [
      "[5, 6, 7, 8, 9, 10, [11, 12, 13]]\n"
     ]
    }
   ],
   "source": [
    "# 2D list\n",
    "L = [5, 6, 7, 8, 9, 10, [11, 12, 13]]\n",
    "print(L)"
   ]
  },
  {
   "cell_type": "code",
   "execution_count": 34,
   "metadata": {},
   "outputs": [
    {
     "name": "stdout",
     "output_type": "stream",
     "text": [
      "[[[5, 6, 7], [8, 9, 10]], [[11, 12, 13], [14, 15, 16]]]\n"
     ]
    }
   ],
   "source": [
    "# 3D list \n",
    "L = [[[5, 6, 7], [8, 9, 10]], [[11, 12, 13], [14, 15, 16]]]\n",
    "print(L)"
   ]
  },
  {
   "cell_type": "code",
   "execution_count": 35,
   "metadata": {},
   "outputs": [
    {
     "name": "stdout",
     "output_type": "stream",
     "text": [
      "[5, 6, 7, 8, 9, 'hello', 'world', 5.5, 6.6, 7.7]\n"
     ]
    }
   ],
   "source": [
    "# hetregenous list\n",
    "L = [5, 6, 7, 8, 9, 'hello', 'world', 5.5, 6.6, 7.7]\n",
    "print(L)"
   ]
  },
  {
   "cell_type": "code",
   "execution_count": 36,
   "metadata": {},
   "outputs": [
    {
     "name": "stdout",
     "output_type": "stream",
     "text": [
      "['h', 'e', 'l', 'l', 'o', ' ', 'w', 'o', 'r', 'l', 'd']\n"
     ]
    }
   ],
   "source": [
    "# using type conversion function\n",
    "L = list('hello world')\n",
    "print(L)"
   ]
  },
  {
   "cell_type": "code",
   "execution_count": 37,
   "metadata": {},
   "outputs": [
    {
     "name": "stdout",
     "output_type": "stream",
     "text": [
      "['h', 'e', 'l', 'l', 'o', ' ', 'w', 'o', 'r', 'l', 'd']\n"
     ]
    }
   ],
   "source": [
    "print(list('hello world'))"
   ]
  },
  {
   "cell_type": "code",
   "execution_count": 40,
   "metadata": {},
   "outputs": [
    {
     "name": "stdout",
     "output_type": "stream",
     "text": [
      "5\n",
      "[9, 10]\n",
      "9\n"
     ]
    }
   ],
   "source": [
    "# accessing itmes from a list\n",
    "# indexing\n",
    "L = [5, 6, 7, 8, [9, 10]]\n",
    "print(L[0]) # positive indexing\n",
    "print(L[-1]) # negative indexing\n",
    "print(L[-1][-2]) # nested indexing"
   ]
  },
  {
   "cell_type": "code",
   "execution_count": 53,
   "metadata": {},
   "outputs": [
    {
     "name": "stdout",
     "output_type": "stream",
     "text": [
      "[5, 6, 7, 8, 9]\n",
      "[10, 9, 8, 7, 6, 5]\n"
     ]
    }
   ],
   "source": [
    "# slicing\n",
    "L = [5, 6, 7, 8, 9, 10]\n",
    "print(L[:-1]) # positive slicing\n",
    "print(L[::-1]) # negative slicing"
   ]
  },
  {
   "cell_type": "code",
   "execution_count": 54,
   "metadata": {},
   "outputs": [
    {
     "name": "stdout",
     "output_type": "stream",
     "text": [
      "[1, 2, 3, 4, 5, 6]\n"
     ]
    }
   ],
   "source": [
    "# append and extend and insert\n",
    "L = [1, 2, 3, 4, 5]\n",
    "L.append(6) # append the value at the end of the list\n",
    "print(L)"
   ]
  },
  {
   "cell_type": "code",
   "execution_count": 57,
   "metadata": {},
   "outputs": [
    {
     "name": "stdout",
     "output_type": "stream",
     "text": [
      "[1, 2, 3, 4, 5, 6, 7, 8, 9, 10]\n",
      "[1, 2, 3, 4, 5, 6, 7, 8, 9, 10, 'h', 'e', 'l', 'l', 'o', ' ', 'w', 'o', 'r', 'l', 'd']\n"
     ]
    }
   ],
   "source": [
    "# extend\n",
    "L = [1, 2, 3, 4, 5]\n",
    "L.extend([6, 7, 8, 9, 10]) # extend the list with the given list\n",
    "print(L)\n",
    "L.extend('hello world')\n",
    "print(L)"
   ]
  },
  {
   "cell_type": "code",
   "execution_count": 56,
   "metadata": {},
   "outputs": [
    {
     "name": "stdout",
     "output_type": "stream",
     "text": [
      "[1, 2, 6, 3, 4, 5]\n"
     ]
    }
   ],
   "source": [
    "# insert \n",
    "L = [1, 2, 3, 4, 5]\n",
    "L.insert(2, 6) # insert the value at the given index\n",
    "print(L)"
   ]
  },
  {
   "cell_type": "code",
   "execution_count": 59,
   "metadata": {},
   "outputs": [
    {
     "name": "stdout",
     "output_type": "stream",
     "text": [
      "[1, 2, 3, 4, 100]\n",
      "[1, 200, 300, 400, 100]\n"
     ]
    }
   ],
   "source": [
    "# Editing a list\n",
    "L = [1, 2, 3, 4, 5]\n",
    "L[-1] = 100 # editing the value of the list\n",
    "print(L)\n",
    "\n",
    "L[1:4] = [200, 300, 400]\n",
    "print(L)"
   ]
  },
  {
   "cell_type": "code",
   "execution_count": 60,
   "metadata": {},
   "outputs": [
    {
     "name": "stdout",
     "output_type": "stream",
     "text": [
      "[1, 2, 4, 5]\n"
     ]
    }
   ],
   "source": [
    "# deleting items of a list\n",
    "L = [1, 2, 3, 4, 5]\n",
    "del L[2] # delete the value at the given index\n",
    "print(L)"
   ]
  },
  {
   "cell_type": "code",
   "execution_count": 61,
   "metadata": {},
   "outputs": [
    {
     "name": "stdout",
     "output_type": "stream",
     "text": [
      "[1, 2, 4, 5]\n"
     ]
    }
   ],
   "source": [
    "# remove\n",
    "L = [1, 2, 3, 4, 5]\n",
    "L.remove(3) # remove the value from the list\n",
    "print(L)"
   ]
  },
  {
   "cell_type": "code",
   "execution_count": 62,
   "metadata": {},
   "outputs": [
    {
     "name": "stdout",
     "output_type": "stream",
     "text": [
      "[2, 3, 4, 5]\n"
     ]
    }
   ],
   "source": [
    "# pop\n",
    "L = [1, 2, 3, 4, 5]\n",
    "L.pop(0) # remove the value from the list at the given index\n",
    "print(L)"
   ]
  },
  {
   "cell_type": "code",
   "execution_count": 63,
   "metadata": {},
   "outputs": [
    {
     "name": "stdout",
     "output_type": "stream",
     "text": [
      "[]\n"
     ]
    }
   ],
   "source": [
    "# clear \n",
    "L = [1, 2, 3, 4, 5]\n",
    "L.clear() # clear the list\n",
    "print(L)"
   ]
  },
  {
   "cell_type": "code",
   "execution_count": 64,
   "metadata": {},
   "outputs": [
    {
     "name": "stdout",
     "output_type": "stream",
     "text": [
      "[1, 2, 3, 4, 5, 6, 7, 8, 9, 10]\n"
     ]
    }
   ],
   "source": [
    "# operations in list (arithmetic, memebership, loop)\n",
    "# arithmetic operations\n",
    "L1 = [1, 2, 3, 4, 5]\n",
    "L2 = [6, 7, 8, 9, 10]\n",
    "print(L1 + L2) # concatenation of the lists"
   ]
  },
  {
   "cell_type": "code",
   "execution_count": 65,
   "metadata": {},
   "outputs": [
    {
     "name": "stdout",
     "output_type": "stream",
     "text": [
      "[1, 2, 3, 4, 5, 1, 2, 3, 4, 5, 1, 2, 3, 4, 5]\n"
     ]
    }
   ],
   "source": [
    "print(L1 * 3) # repetition of the list"
   ]
  },
  {
   "cell_type": "code",
   "execution_count": 66,
   "metadata": {},
   "outputs": [
    {
     "name": "stdout",
     "output_type": "stream",
     "text": [
      "True\n",
      "False\n"
     ]
    }
   ],
   "source": [
    "L1 = [1, 2, 3, 4, 5]\n",
    "L2 = [6, 7, 8, 9, 10]\n",
    "\n",
    "print(5 in L1) # membership operator    \n",
    "print(5 not in L1) # membership operator"
   ]
  },
  {
   "cell_type": "code",
   "execution_count": 68,
   "metadata": {},
   "outputs": [
    {
     "name": "stdout",
     "output_type": "stream",
     "text": [
      "6\n",
      "7\n",
      "8\n",
      "[9, 10]\n"
     ]
    }
   ],
   "source": [
    "# loops in list\n",
    "L1 = [1, 2, 3, 4, 5]\n",
    "L2 = [6, 7, 8, [9, 10]]\n",
    "\n",
    "for i in L2:\n",
    "    print(i)"
   ]
  },
  {
   "cell_type": "code",
   "execution_count": 69,
   "metadata": {},
   "outputs": [
    {
     "name": "stdout",
     "output_type": "stream",
     "text": [
      "5\n",
      "6\n",
      "7\n",
      "8\n",
      "9\n",
      "10\n",
      "11\n",
      "12\n",
      "13\n",
      "14\n",
      "15\n",
      "16\n"
     ]
    }
   ],
   "source": [
    "L = [[[5, 6, 7], [8, 9, 10]], [[11, 12, 13], [14, 15, 16]]]\n",
    "for i in L:\n",
    "    for j in i:\n",
    "        for k in j:\n",
    "            print(k)"
   ]
  },
  {
   "cell_type": "code",
   "execution_count": 70,
   "metadata": {},
   "outputs": [
    {
     "name": "stdout",
     "output_type": "stream",
     "text": [
      "[[5, 6, 7], [8, 9, 10]]\n",
      "[[11, 12, 13], [14, 15, 16]]\n"
     ]
    }
   ],
   "source": [
    "L = [[[5, 6, 7], [8, 9, 10]], [[11, 12, 13], [14, 15, 16]]]\n",
    "for i in L:\n",
    "    print(i)"
   ]
  },
  {
   "cell_type": "code",
   "execution_count": 72,
   "metadata": {},
   "outputs": [
    {
     "name": "stdout",
     "output_type": "stream",
     "text": [
      "6\n",
      "10\n",
      "5\n",
      "[5, 6, 7, 8, 9, 10]\n",
      "<list_reverseiterator object at 0x000002617F736170>\n"
     ]
    }
   ],
   "source": [
    "# functions of list\n",
    "L = [5, 6, 7, 8, 9, 10]\n",
    "print(len(L)) # length of the list\n",
    "print(max(L)) # maximum value of the list\n",
    "print(min(L)) # minimum value of the list\n",
    "print(sorted(L)) # sort the list    \n",
    "print(reversed(L)) # reverse the list"
   ]
  },
  {
   "cell_type": "code",
   "execution_count": 73,
   "metadata": {},
   "outputs": [
    {
     "name": "stdout",
     "output_type": "stream",
     "text": [
      "2\n"
     ]
    }
   ],
   "source": [
    "# count\n",
    "L = [5, 6, 7, 8, 9, 10, 5, 6, 7, 8, 9, 10]\n",
    "print(L.count(5)) # count the frequency of the value in the list"
   ]
  },
  {
   "cell_type": "code",
   "execution_count": 74,
   "metadata": {},
   "outputs": [
    {
     "name": "stdout",
     "output_type": "stream",
     "text": [
      "0\n"
     ]
    }
   ],
   "source": [
    "# index\n",
    "L = [5, 6, 7, 8, 9, 10]\n",
    "print(L.index(5)) # index of the value in the list"
   ]
  },
  {
   "cell_type": "code",
   "execution_count": 75,
   "metadata": {},
   "outputs": [
    {
     "name": "stdout",
     "output_type": "stream",
     "text": [
      "[10, 9, 8, 7, 6, 5]\n"
     ]
    }
   ],
   "source": [
    "# reverse\n",
    "L = [5, 6, 7, 8, 9, 10]\n",
    "L.reverse() # reverse the list\n",
    "print(L)"
   ]
  },
  {
   "cell_type": "code",
   "execution_count": 81,
   "metadata": {},
   "outputs": [
    {
     "name": "stdout",
     "output_type": "stream",
     "text": [
      "[8, 5, 10, 7, 4, 3]\n",
      "[3, 4, 5, 7, 8, 10]\n",
      "[8, 5, 10, 7, 4, 3]\n",
      "[3, 4, 5, 7, 8, 10]\n"
     ]
    }
   ],
   "source": [
    "# sort\n",
    "L = [8, 5, 10, 7, 4, 3]\n",
    "print(L)\n",
    "print(sorted(L)) # sort the list\n",
    "print(L)\n",
    "L.sort() # sort the list\n",
    "print(L)"
   ]
  },
  {
   "cell_type": "code",
   "execution_count": 82,
   "metadata": {},
   "outputs": [
    {
     "name": "stdout",
     "output_type": "stream",
     "text": [
      "[5, 6, 7, 8, 9, 10]\n",
      "2617777515264\n",
      "[5, 6, 7, 8, 9, 10]\n",
      "2617777698752\n"
     ]
    }
   ],
   "source": [
    "# copy\n",
    "L = [5, 6, 7, 8, 9, 10]\n",
    "print(L)\n",
    "print(id(L))\n",
    "L1 = L.copy() # copy the list\n",
    "print(L1)\n",
    "print(id(L1))\n"
   ]
  },
  {
   "cell_type": "code",
   "execution_count": 83,
   "metadata": {},
   "outputs": [
    {
     "name": "stdout",
     "output_type": "stream",
     "text": [
      "[10, 9, 8, 7, 6, 5]\n"
     ]
    }
   ],
   "source": [
    "L = [5, 6, 7, 8, 9, 10]\n",
    "print(L[::-1])"
   ]
  },
  {
   "cell_type": "code",
   "execution_count": 86,
   "metadata": {},
   "outputs": [
    {
     "name": "stdout",
     "output_type": "stream",
     "text": [
      "[1, 2, 3, 4, 5, 6, 7, 8, 9, 10]\n"
     ]
    }
   ],
   "source": [
    "# List comprehension\n",
    "# List comprehension is a way to create a list in a single line of code\n",
    "# expression for item in iterable if condition is True\n",
    "L = []\n",
    "\n",
    "for i in range(1, 11):\n",
    "    L.append(i)\n",
    "\n",
    "print(L)"
   ]
  },
  {
   "cell_type": "code",
   "execution_count": 88,
   "metadata": {},
   "outputs": [
    {
     "name": "stdout",
     "output_type": "stream",
     "text": [
      "[1, 2, 3, 4, 5, 6, 7, 8, 9, 10]\n"
     ]
    }
   ],
   "source": [
    "L = [i for i in range(1, 11)]\n",
    "print(L)"
   ]
  },
  {
   "cell_type": "code",
   "execution_count": 90,
   "metadata": {},
   "outputs": [
    {
     "name": "stdout",
     "output_type": "stream",
     "text": [
      "[-6, -9, -12]\n"
     ]
    }
   ],
   "source": [
    "# scalar multiplication on a vector\n",
    "v = [2,3,4]\n",
    "s = -3\n",
    "# using loop\n",
    "# x = []\n",
    "# for i in v:\n",
    "#     x.append(i*s)\n",
    "# print(x)\n",
    "# using list comprehension\n",
    "x = [s*i for i in v]\n",
    "print(x)"
   ]
  },
  {
   "cell_type": "code",
   "execution_count": 92,
   "metadata": {},
   "outputs": [
    {
     "name": "stdout",
     "output_type": "stream",
     "text": [
      "[1, 4, 9, 16, 25]\n"
     ]
    }
   ],
   "source": [
    "# add squares\n",
    "L = [1, 2, 3, 4, 5]\n",
    "\n",
    "# using list comprehension\n",
    "L1 = [i**2 for i in L]\n",
    "print(L1)"
   ]
  },
  {
   "cell_type": "code",
   "execution_count": 93,
   "metadata": {},
   "outputs": [
    {
     "name": "stdout",
     "output_type": "stream",
     "text": [
      "[5, 10, 15, 20, 25, 30, 35, 40, 45, 50]\n"
     ]
    }
   ],
   "source": [
    "# print all numbers divisible by 5 in the range of 1 to 50\n",
    "\n",
    "L = [i for i in range(1, 51) if i % 5 == 0]\n",
    "print(L)"
   ]
  },
  {
   "cell_type": "code",
   "execution_count": 94,
   "metadata": {},
   "outputs": [
    {
     "name": "stdout",
     "output_type": "stream",
     "text": [
      "['python', 'php', 'perl', 'pascal']\n"
     ]
    }
   ],
   "source": [
    "# find languages that starts with letter 'p'\n",
    "languages = ['python', 'java', 'c', 'c++', 'php', 'javascript', 'perl', 'ruby', 'pascal', 'swift', 'kotlin']\n",
    "\n",
    "Languages = [i for i in languages if i[0] == 'p']\n",
    "print(Languages)"
   ]
  },
  {
   "cell_type": "code",
   "execution_count": 95,
   "metadata": {},
   "outputs": [
    {
     "name": "stdout",
     "output_type": "stream",
     "text": [
      "['apple']\n"
     ]
    }
   ],
   "source": [
    "# nested if with list comprehension\n",
    "basket = ['apple', 'orange', 'apple', 'pear', 'orange', 'banana']\n",
    "my_fruits = ['apple', 'kiwi', 'guava', 'mango']\n",
    "\n",
    "# adding new list from my_fruits to basket if the fruit exists in basket and also starts with 'a'\n",
    "\n",
    "new_fruits = [fruits for fruits in my_fruits if fruits in basket if fruits.startswith('a')]\n",
    "print(new_fruits)"
   ]
  },
  {
   "cell_type": "code",
   "execution_count": 98,
   "metadata": {},
   "outputs": [
    {
     "name": "stdout",
     "output_type": "stream",
     "text": [
      "[[1, 2, 3], [2, 4, 6], [3, 6, 9]]\n"
     ]
    }
   ],
   "source": [
    "# print a (3, 3) matrix using list comprehension -> nested list comprehension\n",
    "matrix = [[i*j for i in range(1, 4)] for j in range(1, 4)]\n",
    "print(matrix)"
   ]
  },
  {
   "cell_type": "code",
   "execution_count": 100,
   "metadata": {},
   "outputs": [
    {
     "name": "stdout",
     "output_type": "stream",
     "text": [
      "[[1, 2, 3], [1, 2, 3], [1, 2, 3]]\n"
     ]
    }
   ],
   "source": [
    "matrix = [[i for i in range(1, 4)] for j in range(1, 4)]\n",
    "print(matrix)"
   ]
  },
  {
   "cell_type": "code",
   "execution_count": 101,
   "metadata": {},
   "outputs": [
    {
     "name": "stdout",
     "output_type": "stream",
     "text": [
      "[1, 1, 1, 2, 2, 2, 3, 3, 3]\n"
     ]
    }
   ],
   "source": [
    "matrix = [i for i in range(1, 4) for j in range(1, 4)]\n",
    "print(matrix)"
   ]
  },
  {
   "cell_type": "code",
   "execution_count": 103,
   "metadata": {},
   "outputs": [
    {
     "name": "stdout",
     "output_type": "stream",
     "text": [
      "[5, 6, 7, 8, 10, 12, 14, 16, 15, 18, 21, 24, 20, 24, 28, 32]\n"
     ]
    }
   ],
   "source": [
    "# cartesian products -> list comprehension on 2 lists together\n",
    "A = [1, 2, 3, 4]\n",
    "B = [5, 6, 7, 8]\n",
    "\n",
    "cartesian_products = [i*j for i in A for j in B]\n",
    "print(cartesian_products)"
   ]
  },
  {
   "cell_type": "code",
   "execution_count": 104,
   "metadata": {},
   "outputs": [
    {
     "name": "stdout",
     "output_type": "stream",
     "text": [
      "5\n",
      "6\n",
      "7\n",
      "8\n",
      "9\n",
      "10\n"
     ]
    }
   ],
   "source": [
    "# ways to traverse a list  (itemwise, indexwise)\n",
    "# itemwise\n",
    "L = [5, 6, 7, 8, 9, 10]\n",
    "for i in L:\n",
    "    print(i)"
   ]
  },
  {
   "cell_type": "code",
   "execution_count": 105,
   "metadata": {},
   "outputs": [
    {
     "name": "stdout",
     "output_type": "stream",
     "text": [
      "5\n",
      "6\n",
      "7\n",
      "8\n",
      "9\n",
      "10\n"
     ]
    }
   ],
   "source": [
    "# indexwise\n",
    "L = [5, 6, 7, 8, 9, 10]\n",
    "\n",
    "for i in range(len(L)):\n",
    "    print(L[i])"
   ]
  },
  {
   "cell_type": "code",
   "execution_count": 108,
   "metadata": {},
   "outputs": [
    {
     "data": {
      "text/plain": [
       "[16, 18, 20, 22, 24, 26]"
      ]
     },
     "execution_count": 108,
     "metadata": {},
     "output_type": "execute_result"
    }
   ],
   "source": [
    "# Zip function in python (zip, enumerate, map, filter, reduce)\n",
    "# zip function is used to combine the lists together\n",
    "\n",
    "L1 = [5, 6, 7, 8, 9, 10]\n",
    "L2 = [11, 12, 13, 14, 15, 16]\n",
    "\n",
    "list(zip(L1, L2))\n",
    "\n",
    "[i+j for i,j in zip(L1, L2)]"
   ]
  },
  {
   "cell_type": "code",
   "execution_count": 109,
   "metadata": {},
   "outputs": [
    {
     "name": "stdout",
     "output_type": "stream",
     "text": [
      "[1, 2, <built-in function print>, <class 'type'>, <bound method Kernel.raw_input of <ipykernel.ipkernel.IPythonKernel object at 0x000002617F3DF150>>]\n"
     ]
    }
   ],
   "source": [
    "L = [1, 2, print, type, input]\n",
    "print(L)"
   ]
  },
  {
   "cell_type": "code",
   "execution_count": 110,
   "metadata": {},
   "outputs": [
    {
     "name": "stdout",
     "output_type": "stream",
     "text": [
      "0 5\n",
      "1 6\n",
      "2 7\n",
      "3 8\n",
      "4 9\n",
      "5 10\n"
     ]
    }
   ],
   "source": [
    "# enumerate function\n",
    "# enumerate function is used to get the index and the value of the list together\n",
    "L = [5, 6, 7, 8, 9, 10]\n",
    "for i, j in enumerate(L):\n",
    "    print(i, j)"
   ]
  },
  {
   "cell_type": "code",
   "execution_count": 111,
   "metadata": {},
   "outputs": [
    {
     "data": {
      "text/plain": [
       "[25, 36, 49, 64, 81, 100]"
      ]
     },
     "execution_count": 111,
     "metadata": {},
     "output_type": "execute_result"
    }
   ],
   "source": [
    "# map function\n",
    "# map function is used to apply a function on the list\n",
    "L = [5, 6, 7, 8, 9, 10]\n",
    "def square(x):\n",
    "    return x**2\n",
    "\n",
    "list(map(square, L))"
   ]
  },
  {
   "cell_type": "code",
   "execution_count": 112,
   "metadata": {},
   "outputs": [
    {
     "data": {
      "text/plain": [
       "[6, 8, 10]"
      ]
     },
     "execution_count": 112,
     "metadata": {},
     "output_type": "execute_result"
    }
   ],
   "source": [
    "# filter function\n",
    "# filter function is used to filter the list on the basis of the condition\n",
    "L = [5, 6, 7, 8, 9, 10]\n",
    "def even(x):\n",
    "    return x % 2 == 0\n",
    "\n",
    "list(filter(even, L))"
   ]
  },
  {
   "cell_type": "markdown",
   "metadata": {},
   "source": [
    "# tuples"
   ]
  },
  {
   "cell_type": "code",
   "execution_count": 120,
   "metadata": {},
   "outputs": [
    {
     "name": "stdout",
     "output_type": "stream",
     "text": [
      "()\n",
      "(2,)\n",
      "(2, 3, 4, 5, 6)\n",
      "(2, 3, 4, 'hello', 'world', 5.5, 6.6)\n",
      "(2, 3, 4, (5, 6, 7, 8))\n",
      "('h', 'e', 'l', 'l', 'o', ' ', 'w', 'o', 'r', 'l', 'd')\n"
     ]
    }
   ],
   "source": [
    "# creating tuples\n",
    "# empty tuple\n",
    "t1 = ()\n",
    "print(t1)\n",
    "# how to crate a tuple with single element\n",
    "t2 = (2,)\n",
    "print(t2)\n",
    "# homogeneous tuple\n",
    "t3 = (2, 3, 4, 5, 6)\n",
    "print(t3)\n",
    "# heterogeneous tuple\n",
    "t4 = (2, 3, 4, 'hello', 'world', 5.5, 6.6)\n",
    "print(t4)\n",
    "# nested tuple\n",
    "t5 = (2, 3, 4, (5, 6, 7, 8))\n",
    "print(t5)\n",
    "# using type conversion function\n",
    "t6 = tuple('hello world')\n",
    "print(t6)"
   ]
  },
  {
   "cell_type": "code",
   "execution_count": 131,
   "metadata": {},
   "outputs": [
    {
     "name": "stdout",
     "output_type": "stream",
     "text": [
      "2\n",
      "10\n",
      "(2, 3, 4, 5, 6)\n",
      "(4, 6, 8)\n",
      "(10, 9, 8, 7, 6, 5, 4, 3, 2)\n",
      "(10, 9, 8, 7, 6)\n"
     ]
    }
   ],
   "source": [
    "# indexing and slicing in tuple\n",
    "t = (2, 3, 4, 5, 6, 7, 8, 9, 10)\n",
    "print(t[0])\n",
    "print(t[-1])\n",
    "print(t[0:5])\n",
    "print(t[2:7:2])\n",
    "print(t[::-1])\n",
    "print(t[-1:-6:-1])"
   ]
  },
  {
   "cell_type": "code",
   "execution_count": 127,
   "metadata": {},
   "outputs": [],
   "source": [
    "# editing a tuple\n",
    "t = (2, 3, 4, 5, 6, 7, 8, 9, 10)\n",
    "# t[0] = 100 # tuples are immutable"
   ]
  },
  {
   "cell_type": "code",
   "execution_count": 128,
   "metadata": {},
   "outputs": [],
   "source": [
    "# adding items\n",
    "t = (2, 3, 4, 5, 6, 7, 8, 9, 10)\n",
    "# not possible to add items in the tuple"
   ]
  },
  {
   "cell_type": "code",
   "execution_count": 130,
   "metadata": {},
   "outputs": [],
   "source": [
    "# deleting items\n",
    "t = (2, 3, 4, 5, 6, 7, 8, 9, 10)\n",
    "# not possible to delete items from the tuple, but complete tuple can be deleted"
   ]
  },
  {
   "cell_type": "code",
   "execution_count": 133,
   "metadata": {},
   "outputs": [
    {
     "name": "stdout",
     "output_type": "stream",
     "text": [
      "(2, 3, 4, 5, 6, 7, 8, 9, 10)\n",
      "(2, 3, 4, 5, 6, 2, 3, 4, 5, 6, 2, 3, 4, 5, 6)\n",
      "True\n",
      "False\n",
      "2\n",
      "3\n",
      "4\n",
      "5\n",
      "6\n",
      "7\n",
      "8\n",
      "9\n",
      "10\n"
     ]
    }
   ],
   "source": [
    "# operations in tuple (arithmetic, membership, loop)\n",
    "# + and * operators\n",
    "t1 = (2, 3, 4, 5, 6)\n",
    "t2 = (7, 8, 9, 10)\n",
    "print(t1 + t2)\n",
    "print(t1 * 3)\n",
    "# membership operators\n",
    "t = (2, 3, 4, 5, 6, 7, 8, 9, 10)\n",
    "print(5 in t)\n",
    "print(5 not in t)\n",
    "# iteration or loop\n",
    "t = (2, 3, 4, 5, 6, 7, 8, 9, 10)\n",
    "for i in t:\n",
    "    print(i)"
   ]
  },
  {
   "cell_type": "code",
   "execution_count": 134,
   "metadata": {},
   "outputs": [
    {
     "name": "stdout",
     "output_type": "stream",
     "text": [
      "9\n",
      "10\n",
      "2\n",
      "[2, 3, 4, 5, 6, 7, 8, 9, 10]\n",
      "<reversed object at 0x000002617F71F850>\n",
      "54\n",
      "1\n",
      "3\n"
     ]
    }
   ],
   "source": [
    "# tuple functions\n",
    "# len, max, min, sorted, reversed, sum, count, index\n",
    "t = (2, 3, 4, 5, 6, 7, 8, 9, 10)\n",
    "print(len(t))\n",
    "print(max(t))\n",
    "print(min(t))\n",
    "print(sorted(t))\n",
    "print(reversed(t))\n",
    "print(sum(t))\n",
    "print(t.count(5))\n",
    "print(t.index(5))"
   ]
  },
  {
   "cell_type": "code",
   "execution_count": 1,
   "metadata": {},
   "outputs": [
    {
     "name": "stdout",
     "output_type": "stream",
     "text": [
      "List time:  0.8176496028900146\n",
      "Tuple time:  0.9252519607543945\n"
     ]
    }
   ],
   "source": [
    "# difference between list and tuple\n",
    "# list is mutable, tuple is immutable\n",
    "# list is dynamic, tuple is static\n",
    "\n",
    "import time \n",
    "L = list(range(10000000))\n",
    "T = tuple(range(10000000))\n",
    "\n",
    "start = time.time()\n",
    "for i in L:\n",
    "    i*5\n",
    "\n",
    "print('List time: ', time.time() - start)\n",
    "\n",
    "start = time.time()\n",
    "for i in T:\n",
    "    i*5\n",
    "\n",
    "print('Tuple time: ', time.time() - start)"
   ]
  },
  {
   "cell_type": "code",
   "execution_count": 2,
   "metadata": {},
   "outputs": [
    {
     "name": "stdout",
     "output_type": "stream",
     "text": [
      "List size:  8056\n",
      "Tuple size:  8040\n"
     ]
    }
   ],
   "source": [
    "import sys\n",
    "\n",
    "L = list(range(1000))\n",
    "T = tuple(range(1000))\n",
    "\n",
    "print('List size: ', sys.getsizeof(L))\n",
    "print('Tuple size: ', sys.getsizeof(T))"
   ]
  },
  {
   "cell_type": "code",
   "execution_count": 3,
   "metadata": {},
   "outputs": [],
   "source": [
    "# why use tuple\n",
    "# tuple is faster than list\n",
    "# tuple is used to store the constant values"
   ]
  },
  {
   "cell_type": "code",
   "execution_count": 4,
   "metadata": {},
   "outputs": [
    {
     "name": "stdout",
     "output_type": "stream",
     "text": [
      "2 3 4 5 6\n"
     ]
    }
   ],
   "source": [
    "# tuple unpacking\n",
    "t = (2, 3, 4, 5, 6)\n",
    "a, b, c, d, e = t\n",
    "print(a, b, c, d, e)"
   ]
  },
  {
   "cell_type": "code",
   "execution_count": 5,
   "metadata": {},
   "outputs": [
    {
     "name": "stdout",
     "output_type": "stream",
     "text": [
      "6 5\n"
     ]
    }
   ],
   "source": [
    "# value swap\n",
    "a = 5\n",
    "b = 6\n",
    "a, b = b, a\n",
    "print(a, b)"
   ]
  },
  {
   "cell_type": "code",
   "execution_count": 6,
   "metadata": {},
   "outputs": [
    {
     "name": "stdout",
     "output_type": "stream",
     "text": [
      "1 2 [3, 4, 5, 6, 7, 8, 9, 10]\n"
     ]
    }
   ],
   "source": [
    "a,b, *others = (1, 2, 3, 4, 5, 6, 7, 8, 9, 10)\n",
    "print(a, b, others)"
   ]
  },
  {
   "cell_type": "code",
   "execution_count": 7,
   "metadata": {},
   "outputs": [
    {
     "data": {
      "text/plain": [
       "((5, 11), (6, 12), (7, 13), (8, 14), (9, 15), (10, 16))"
      ]
     },
     "execution_count": 7,
     "metadata": {},
     "output_type": "execute_result"
    }
   ],
   "source": [
    "# zippping\n",
    "L1 = [5, 6, 7, 8, 9, 10]\n",
    "L2 = [11, 12, 13, 14, 15, 16]\n",
    "\n",
    "tuple(zip(L1, L2))"
   ]
  },
  {
   "cell_type": "code",
   "execution_count": 8,
   "metadata": {},
   "outputs": [],
   "source": [
    "# in tuples all writable operations are not allowed, but in list allowed"
   ]
  },
  {
   "cell_type": "markdown",
   "metadata": {},
   "source": [
    "# Sets"
   ]
  },
  {
   "cell_type": "code",
   "execution_count": 9,
   "metadata": {},
   "outputs": [],
   "source": [
    "# Set is a collection of unique elements, it is unordered and unindexed, \n",
    "# it is mutable, it is iterable, it is dynamic, it is nested, it is sliced,"
   ]
  },
  {
   "cell_type": "code",
   "execution_count": 18,
   "metadata": {},
   "outputs": [
    {
     "name": "stdout",
     "output_type": "stream",
     "text": [
      "set()\n",
      "<class 'set'>\n",
      "{5, 6, 7, 8, 9, 10}\n",
      "{5, 6, 7, 8, 9, 10}\n",
      "{1, 5, 6, 7, 8, 9, 10, 'hello', 5.5, 6.6, 7.7, 'world'}\n",
      "{'o', 'w', 'h', 'l', 'e', 'r', 'd', ' '}\n",
      "{5, 6, 7, 8, 9, 10}\n"
     ]
    }
   ],
   "source": [
    "# create a set \n",
    "# empty set\n",
    "s = set()\n",
    "print(s)\n",
    "print(type(s))\n",
    "# 1D & 2D set\n",
    "s = {5, 6, 7, 8, 9, 10}\n",
    "print(s)\n",
    "# s1 = {5, 6, 7, 8, 9, 10, {11, 12, 13, 14, 15, 16}}\n",
    "# print(s1) # set can not be nested\n",
    "# homemgeneous set\n",
    "s = {5, 6, 7, 8, 9, 10}\n",
    "print(s)\n",
    "# heterogeneous set\n",
    "s = {5, 6, 7, 8, 9, 10, 'hello', 1, True, 'world', 5.5, 6.6, 7.7}\n",
    "print(s)\n",
    "# using type conversion function\n",
    "s = set('hello world')\n",
    "print(s)\n",
    "# duplicate values are not allowed in the set\n",
    "s = {5, 6, 7, 8, 9, 10, 5, 6, 7, 8, 9, 10}\n",
    "print(s)\n",
    "# sets can't have mutable items\n",
    "# s = {5, 6, 7, 8, 9, 10, [11, 12, 13, 14, 15, 16]}\n",
    "# print(s)"
   ]
  },
  {
   "cell_type": "code",
   "execution_count": 19,
   "metadata": {},
   "outputs": [
    {
     "name": "stdout",
     "output_type": "stream",
     "text": [
      "True\n"
     ]
    }
   ],
   "source": [
    "s1 = {5, 6, 7, 8, 9, 10}\n",
    "s2 = {10, 9, 8, 7, 6, 5}\n",
    "\n",
    "print( s1 == s2)"
   ]
  },
  {
   "cell_type": "code",
   "execution_count": 23,
   "metadata": {},
   "outputs": [],
   "source": [
    "# set is not sliceable, editable, deletable (items)\n",
    "# but can add, delete, and update the set"
   ]
  },
  {
   "cell_type": "code",
   "execution_count": 24,
   "metadata": {},
   "outputs": [],
   "source": [
    "# set items can delete complete set, discard, remove, pop, clear"
   ]
  },
  {
   "cell_type": "code",
   "execution_count": 32,
   "metadata": {},
   "outputs": [
    {
     "name": "stdout",
     "output_type": "stream",
     "text": [
      "{5, 6, 7, 8, 9, 10, 11, 12, 13}\n",
      "{8, 9, 10, 7}\n",
      "{5, 6, 11, 12, 13}\n",
      "{5, 6, 11, 12, 13}\n",
      "False\n",
      "True\n",
      "False\n"
     ]
    }
   ],
   "source": [
    "# operations of sets\n",
    "# union, intersection, difference, symmetric difference, subset, superset, disjoint,\n",
    "s1 = {5, 6, 7, 8, 9, 10, 11, 12, 13}\n",
    "s2 = {10, 9, 8, 7}\n",
    "print(s1.union(s2)) # union of the sets can print all items one times not duplicates, denotes as (|)\n",
    "print(s1.intersection(s2)) # intersection of the sets can print the common items, denotes as (&)\n",
    "print(s1.difference(s2)) # difference of the sets can print the items of the first set that are not\n",
    "                        # in the second set, denotes as (-)\n",
    "print(s1.symmetric_difference(s2)) # symmetric difference of the sets can print the items of the first\n",
    "                                    # set that are not in the second set and the items of the second\n",
    "                                    # set that are not in the first set, denotes as (^)\n",
    "print(s1.issubset(s2)) # subset of the sets can check the first set is the subset of the second set,\n",
    "                        # denostes as (<=)\n",
    "print(s1.issuperset(s2)) # superset of the sets can check the first set is the superset of the second set\n",
    "                            # denostes as (>=)\n",
    "print(s1.isdisjoint(s2)) # disjoint of the sets can check the sets are disjoint or not"
   ]
  },
  {
   "cell_type": "code",
   "execution_count": 31,
   "metadata": {},
   "outputs": [
    {
     "name": "stdout",
     "output_type": "stream",
     "text": [
      "6\n",
      "45\n",
      "5\n",
      "10\n",
      "[5, 6, 7, 8, 9, 10]\n"
     ]
    }
   ],
   "source": [
    "# len, sum, min, max, sorted\n",
    "s = {5, 6, 7, 8, 9, 10}\n",
    "print(len(s))\n",
    "print(sum(s))\n",
    "print(min(s))\n",
    "print(max(s))\n",
    "print(sorted(s))"
   ]
  },
  {
   "cell_type": "code",
   "execution_count": 34,
   "metadata": {},
   "outputs": [
    {
     "name": "stdout",
     "output_type": "stream",
     "text": [
      "{5, 6, 7, 8, 9, 10, 11, 12, 13}\n",
      "{8, 9, 10, 7}\n",
      "{8, 9, 10, 7}\n",
      "{8, 9, 10, 7}\n"
     ]
    }
   ],
   "source": [
    "s1.update(s2) # update the set with the given set\n",
    "print(s1)\n",
    "print(s2)\n",
    "\n",
    "s1.intersection_update(s2) # update the set with the intersection of the given set\n",
    "print(s1)\n",
    "print(s2)"
   ]
  },
  {
   "cell_type": "code",
   "execution_count": 37,
   "metadata": {},
   "outputs": [
    {
     "name": "stdout",
     "output_type": "stream",
     "text": [
      "set()\n",
      "{8, 9, 10, 7}\n",
      "set()\n",
      "{8, 9, 10, 7}\n"
     ]
    }
   ],
   "source": [
    "s1.difference(s2) \n",
    "print(s1)\n",
    "print(s2)\n",
    "\n",
    "s1.difference_update(s2) \n",
    "print(s1)\n",
    "print(s2)"
   ]
  },
  {
   "cell_type": "code",
   "execution_count": 39,
   "metadata": {},
   "outputs": [
    {
     "name": "stdout",
     "output_type": "stream",
     "text": [
      "{5, 6, 7, 8, 9, 10}\n",
      "{5, 6, 7, 8, 9, 10}\n"
     ]
    }
   ],
   "source": [
    "# copy\n",
    "s = {5, 6, 7, 8, 9, 10}\n",
    "print(s)\n",
    "s1 = s.copy() # copy the set\n",
    "print(s1)"
   ]
  },
  {
   "cell_type": "code",
   "execution_count": 40,
   "metadata": {},
   "outputs": [
    {
     "name": "stdout",
     "output_type": "stream",
     "text": [
      "frozenset({5, 6, 7, 8, 9, 10})\n"
     ]
    }
   ],
   "source": [
    "# Frozenset\n",
    "# frozenset is an immutable set\n",
    "# frozenset is used to store the constant values\n",
    "L = [5, 6, 7, 8, 9, 10]\n",
    "s = frozenset(L)\n",
    "print(s)"
   ]
  },
  {
   "cell_type": "code",
   "execution_count": 41,
   "metadata": {},
   "outputs": [
    {
     "name": "stdout",
     "output_type": "stream",
     "text": [
      "frozenset({frozenset({16, 11, 12, 13, 14, 15}), 5, 6, 7, 8, 9, 10})\n"
     ]
    }
   ],
   "source": [
    "# 2D sets\n",
    "fs = frozenset({5, 6, 7, 8, 9, 10, frozenset({11, 12, 13, 14, 15, 16})})\n",
    "print(fs)"
   ]
  },
  {
   "cell_type": "code",
   "execution_count": 42,
   "metadata": {},
   "outputs": [
    {
     "data": {
      "text/plain": [
       "{1, 2, 3, 4, 5, 6, 7, 8, 9, 10}"
      ]
     },
     "execution_count": 42,
     "metadata": {},
     "output_type": "execute_result"
    }
   ],
   "source": [
    "# set comprehension\n",
    "{i for i in range(1, 11)}"
   ]
  },
  {
   "cell_type": "code",
   "execution_count": 43,
   "metadata": {},
   "outputs": [
    {
     "data": {
      "text/plain": [
       "{6, 7, 8, 9, 10}"
      ]
     },
     "execution_count": 43,
     "metadata": {},
     "output_type": "execute_result"
    }
   ],
   "source": [
    "{i for i in range(1, 11) if i > 5}"
   ]
  },
  {
   "cell_type": "code",
   "execution_count": 44,
   "metadata": {},
   "outputs": [
    {
     "data": {
      "text/plain": [
       "{1, 4, 9, 16}"
      ]
     },
     "execution_count": 44,
     "metadata": {},
     "output_type": "execute_result"
    }
   ],
   "source": [
    "{i**2 for i in range(1, 10) if i < 5}"
   ]
  },
  {
   "cell_type": "markdown",
   "metadata": {},
   "source": [
    "# Dictionary"
   ]
  },
  {
   "cell_type": "code",
   "execution_count": 45,
   "metadata": {},
   "outputs": [],
   "source": [
    "# dictionary in python (dict)\n",
    "# dictionary is a collection of key value pairs\n",
    "# dictionary is mutable, dictionary is dynamic, dictionary is nested, dictionary is sliced\n",
    "# dictionary is iterable, dictionary is ordered, dictionary is indexed, keys are unique, values are not unique"
   ]
  },
  {
   "cell_type": "code",
   "execution_count": 47,
   "metadata": {},
   "outputs": [
    {
     "name": "stdout",
     "output_type": "stream",
     "text": [
      "{}\n",
      "{1: 'one', 2: 'two', 3: 'three'}\n",
      "{1: 'one', 2: 'two', 3: 'three'}\n",
      "{1: 'one', 2: 'two', 3: 'three', 'hello': 'world', 5.5: 6.6, 7.7: 8.8}\n",
      "{1: 'one', 2: 'two', 3: 'three', 'hello': 'world', 5.5: 6.6, 7.7: 8.8, 9: {10: 'ten', 11: 'eleven'}}\n",
      "{1: 'one', 2: 'two', 3: 'three'}\n",
      "{1: 'four', 2: 'two', 3: 'three'}\n",
      "{1: 'one', 2: 'two', 3: 'three', 4: 'one'}\n"
     ]
    }
   ],
   "source": [
    "# create a dictionary\n",
    "# empty dictionary\n",
    "d = {}\n",
    "print(d)\n",
    "# 1D & 2D dictionary\n",
    "d = {1: 'one', 2: 'two', 3: 'three'}\n",
    "print(d)\n",
    "# homogeneous dictionary\n",
    "d = {1: 'one', 2: 'two', 3: 'three'}\n",
    "print(d)\n",
    "# heterogeneous dictionary\n",
    "d = {1: 'one', 2: 'two', 3: 'three', 'hello': 'world', 5.5: 6.6, 7.7: 8.8}\n",
    "print(d)\n",
    "# nested dictionary\n",
    "d = {1: 'one', 2: 'two', 3: 'three', 'hello': 'world', 5.5: 6.6, 7.7: 8.8, 9: {10: 'ten', 11: 'eleven'}}\n",
    "print(d)\n",
    "# using type conversion function\n",
    "d = dict({1: 'one', 2: 'two', 3: 'three'})\n",
    "print(d)\n",
    "# duplicate keys are not allowed in the dictionary\n",
    "d = {1: 'one', 2: 'two', 3: 'three', 1: 'four'}\n",
    "print(d)\n",
    "# duplicate values are allowed in the dictionary\n",
    "d = {1: 'one', 2: 'two', 3: 'three', 4: 'one'}\n",
    "print(d)\n",
    "# using sequence and dict function\n",
    "d = dict([(1, 'one'), (2, 'two'), (3, 'three')])"
   ]
  },
  {
   "cell_type": "code",
   "execution_count": 51,
   "metadata": {},
   "outputs": [
    {
     "name": "stdout",
     "output_type": "stream",
     "text": [
      "{1: 'one', 2: 'two', 3: 'three', 4: 'four'}\n"
     ]
    }
   ],
   "source": [
    "# mutable and immutable keys\n",
    "d = {1: 'one', 2: 'two', 3: 'three', 4: 'four'} # dictionary keys can not be mutable\n",
    "print(d)"
   ]
  },
  {
   "cell_type": "code",
   "execution_count": 55,
   "metadata": {},
   "outputs": [
    {
     "name": "stdout",
     "output_type": "stream",
     "text": [
      "36\n",
      "Haroon\n",
      "Male\n"
     ]
    }
   ],
   "source": [
    "# accessing items from a dictionary\n",
    "d = {'Name': 'Haroon', 'Gender': 'Male', 'Age': '36', 'Class': 'AI'}\n",
    "print(d['Age'])\n",
    "print(d['Name'])\n",
    "# get function\n",
    "print(d.get('Gender'))"
   ]
  },
  {
   "cell_type": "code",
   "execution_count": 59,
   "metadata": {},
   "outputs": [
    {
     "name": "stdout",
     "output_type": "stream",
     "text": [
      "{'Name': 'Haroon', 'Gender': 'Male', 'Age': '36', 'Class': 'AI', 'Year': 2024}\n",
      "{'Name': 'Haroon', 'Gender': 'Male', 'Age': '36', 'Class': 'AI', 'Year': 2024, 'Weight': 62}\n"
     ]
    }
   ],
   "source": [
    "# adding key value pairs\n",
    "d['Year'] = 2024\n",
    "print(d)\n",
    "d['Weight'] = 62\n",
    "print(d)"
   ]
  },
  {
   "cell_type": "code",
   "execution_count": 60,
   "metadata": {},
   "outputs": [
    {
     "name": "stdout",
     "output_type": "stream",
     "text": [
      "{'Name': 'Haroon', 'Gender': 'Male', 'Age': '36', 'Class': 'AI', 'Year': 2024}\n",
      "{'Name': 'Haroon', 'Gender': 'Male', 'Age': '36', 'Class': 'AI'}\n",
      "{'Name': 'Haroon', 'Gender': 'Male', 'Age': '36'}\n",
      "{}\n"
     ]
    }
   ],
   "source": [
    "# remove key value pairs # pop, popitem, del, clear\n",
    "d.pop('Weight')\n",
    "print(d)\n",
    "d.popitem()\n",
    "print(d)\n",
    "del d['Class']\n",
    "print(d)\n",
    "d.clear()\n",
    "print(d)"
   ]
  },
  {
   "cell_type": "code",
   "execution_count": 81,
   "metadata": {},
   "outputs": [
    {
     "name": "stdout",
     "output_type": "stream",
     "text": [
      "{'name': 'Haroon', 'gender': 'male', 'age': 36, 'class': 'AI', 'year': 2024, 'weight': 62, 'subjects': {'biology: 83', 'physics: 93', 'chemistry: 79', 'computer science: 89', 'maths: 87'}}\n"
     ]
    }
   ],
   "source": [
    "# adding the dictionary key value pairs, name, gender, age, class, year, weight, and subjects of the students\n",
    "d = {}\n",
    "d['name'] = 'Haroon'\n",
    "d['gender'] = 'male'\n",
    "d['age'] = 36\n",
    "d['class'] = 'AI'\n",
    "d['year'] = 2024\n",
    "d['weight'] = 62\n",
    "d['subjects'] = {'maths: 87', 'physics: 93', 'chemistry: 79', 'biology: 83', 'computer science: 89'}\n",
    "print(d)"
   ]
  },
  {
   "cell_type": "code",
   "execution_count": 94,
   "metadata": {},
   "outputs": [
    {
     "data": {
      "text/plain": [
       "{'name': 'Haroon',\n",
       " 'gender': 'male',\n",
       " 'age': 36,\n",
       " 'class': 'AI',\n",
       " 'year': 2024,\n",
       " 'weight': 62,\n",
       " 'subjects': {'biology: 83',\n",
       "  'chemistry: 79',\n",
       "  'computer science: 89',\n",
       "  'maths: 87',\n",
       "  'physics: 93'}}"
      ]
     },
     "execution_count": 94,
     "metadata": {},
     "output_type": "execute_result"
    }
   ],
   "source": [
    "d = {\n",
    "'name' : 'Haroon',\n",
    "'gender' : 'male',\n",
    "'age' : 36,\n",
    "'class': 'AI',\n",
    "'year': 2024,\n",
    "'weight': 62,\n",
    "'subjects': {'maths: 87', 'physics: 93', 'chemistry: 79', 'biology: 83', 'computer science: 89'}}\n",
    "d"
   ]
  },
  {
   "cell_type": "code",
   "execution_count": 102,
   "metadata": {},
   "outputs": [
    {
     "data": {
      "text/plain": [
       "{'name': 'haroon',\n",
       " 'gender': 'male',\n",
       " 'age': 36,\n",
       " 'class': 'ai',\n",
       " 'year': '2024',\n",
       " 'subjects': {'maths': 87,\n",
       "  'physics': 93,\n",
       "  'chemistry': 79,\n",
       "  'computer science': 89}}"
      ]
     },
     "execution_count": 102,
     "metadata": {},
     "output_type": "execute_result"
    }
   ],
   "source": [
    "s = {\n",
    "    'name': 'haroon',\n",
    "    'gender': 'male',\n",
    "    'age': 36,\n",
    "    'class': 'ai',\n",
    "    'year': '2024',\n",
    "    'subjects': {'maths': 87, 'physics': 93, 'chemistry': 79, 'computer science' : 89}\n",
    "}\n",
    "s"
   ]
  },
  {
   "cell_type": "code",
   "execution_count": 103,
   "metadata": {},
   "outputs": [
    {
     "data": {
      "text/plain": [
       "'haroon'"
      ]
     },
     "execution_count": 103,
     "metadata": {},
     "output_type": "execute_result"
    }
   ],
   "source": [
    "s['name']"
   ]
  },
  {
   "cell_type": "code",
   "execution_count": 104,
   "metadata": {},
   "outputs": [
    {
     "data": {
      "text/plain": [
       "87"
      ]
     },
     "execution_count": 104,
     "metadata": {},
     "output_type": "execute_result"
    }
   ],
   "source": [
    "s['subjects']['maths']"
   ]
  },
  {
   "cell_type": "code",
   "execution_count": 106,
   "metadata": {},
   "outputs": [
    {
     "data": {
      "text/plain": [
       "{'name': 'haroon',\n",
       " 'gender': 'male',\n",
       " 'age': 36,\n",
       " 'class': 'ai',\n",
       " 'year': '2024',\n",
       " 'subjects': {'maths': 87,\n",
       "  'physics': 93,\n",
       "  'chemistry': 79,\n",
       "  'computer science': 89,\n",
       "  'ds': 90}}"
      ]
     },
     "execution_count": 106,
     "metadata": {},
     "output_type": "execute_result"
    }
   ],
   "source": [
    "s['subjects']['ds'] = 90\n",
    "s"
   ]
  },
  {
   "cell_type": "code",
   "execution_count": 107,
   "metadata": {},
   "outputs": [
    {
     "data": {
      "text/plain": [
       "{'name': 'haroon',\n",
       " 'gender': 'male',\n",
       " 'age': 37,\n",
       " 'class': 'ai',\n",
       " 'year': '2024',\n",
       " 'subjects': {'maths': 87,\n",
       "  'physics': 93,\n",
       "  'chemistry': 79,\n",
       "  'computer science': 89,\n",
       "  'ds': 90}}"
      ]
     },
     "execution_count": 107,
     "metadata": {},
     "output_type": "execute_result"
    }
   ],
   "source": [
    "s['age'] = 37\n",
    "s"
   ]
  },
  {
   "cell_type": "code",
   "execution_count": 108,
   "metadata": {},
   "outputs": [
    {
     "data": {
      "text/plain": [
       "True"
      ]
     },
     "execution_count": 108,
     "metadata": {},
     "output_type": "execute_result"
    }
   ],
   "source": [
    "'name' in s"
   ]
  },
  {
   "cell_type": "code",
   "execution_count": 109,
   "metadata": {},
   "outputs": [
    {
     "data": {
      "text/plain": [
       "dict_keys(['name', 'gender', 'age', 'class', 'year', 'subjects'])"
      ]
     },
     "execution_count": 109,
     "metadata": {},
     "output_type": "execute_result"
    }
   ],
   "source": [
    "s.keys()"
   ]
  },
  {
   "cell_type": "code",
   "execution_count": 110,
   "metadata": {},
   "outputs": [
    {
     "data": {
      "text/plain": [
       "dict_values(['haroon', 'male', 37, 'ai', '2024', {'maths': 87, 'physics': 93, 'chemistry': 79, 'computer science': 89, 'ds': 90}])"
      ]
     },
     "execution_count": 110,
     "metadata": {},
     "output_type": "execute_result"
    }
   ],
   "source": [
    "s.values()"
   ]
  },
  {
   "cell_type": "code",
   "execution_count": 111,
   "metadata": {},
   "outputs": [
    {
     "name": "stdout",
     "output_type": "stream",
     "text": [
      "name\n",
      "gender\n",
      "age\n",
      "class\n",
      "year\n",
      "weight\n",
      "subjects\n"
     ]
    }
   ],
   "source": [
    "for i in d:\n",
    "    print(i)"
   ]
  },
  {
   "cell_type": "code",
   "execution_count": 112,
   "metadata": {},
   "outputs": [
    {
     "name": "stdout",
     "output_type": "stream",
     "text": [
      "Haroon\n",
      "male\n",
      "36\n",
      "AI\n",
      "2024\n",
      "62\n",
      "{'biology: 83', 'physics: 93', 'chemistry: 79', 'computer science: 89', 'maths: 87'}\n"
     ]
    }
   ],
   "source": [
    "for i in d: \n",
    "    print(d[i])"
   ]
  },
  {
   "cell_type": "code",
   "execution_count": 113,
   "metadata": {},
   "outputs": [
    {
     "name": "stdout",
     "output_type": "stream",
     "text": [
      "name Haroon\n",
      "gender male\n",
      "age 36\n",
      "class AI\n",
      "year 2024\n",
      "subjects {'biology: 83', 'physics: 93', 'chemistry: 79', 'computer science: 89', 'maths: 87'}\n"
     ]
    }
   ],
   "source": [
    "for i in s:\n",
    "    print(i, d[i])"
   ]
  },
  {
   "cell_type": "code",
   "execution_count": 116,
   "metadata": {},
   "outputs": [
    {
     "name": "stdout",
     "output_type": "stream",
     "text": [
      "6\n",
      "year\n",
      "age\n",
      "['age', 'class', 'gender', 'name', 'subjects', 'year']\n",
      "<dict_reversekeyiterator object at 0x0000021C002A1760>\n"
     ]
    }
   ],
   "source": [
    "# len, max, min, sorted, reversed\n",
    "print(len(s))\n",
    "print(max(s))\n",
    "print(min(s))\n",
    "print(sorted(s))\n",
    "print(reversed(s))"
   ]
  },
  {
   "cell_type": "code",
   "execution_count": 117,
   "metadata": {},
   "outputs": [
    {
     "name": "stdout",
     "output_type": "stream",
     "text": [
      "dict_items([('name', 'Haroon'), ('gender', 'male'), ('age', 36), ('class', 'AI'), ('year', 2024), ('weight', 62), ('subjects', {'biology: 83', 'physics: 93', 'chemistry: 79', 'computer science: 89', 'maths: 87'})])\n"
     ]
    }
   ],
   "source": [
    "print(d.items())"
   ]
  },
  {
   "cell_type": "code",
   "execution_count": 118,
   "metadata": {},
   "outputs": [
    {
     "data": {
      "text/plain": [
       "{'name': 'haroon',\n",
       " 'gender': 'male',\n",
       " 'age': 37,\n",
       " 'class': 'ai',\n",
       " 'year': '2024',\n",
       " 'subjects': {'maths': 87,\n",
       "  'physics': 93,\n",
       "  'chemistry': 79,\n",
       "  'computer science': 89,\n",
       "  'ds': 90}}"
      ]
     },
     "execution_count": 118,
     "metadata": {},
     "output_type": "execute_result"
    }
   ],
   "source": [
    "# dictionary comprehension\n",
    "{key: values for key, values in s.items()}"
   ]
  },
  {
   "cell_type": "code",
   "execution_count": 119,
   "metadata": {},
   "outputs": [
    {
     "data": {
      "text/plain": [
       "{1: 1, 2: 4, 3: 9, 4: 16, 5: 25, 6: 36, 7: 49, 8: 64, 9: 81, 10: 100}"
      ]
     },
     "execution_count": 119,
     "metadata": {},
     "output_type": "execute_result"
    }
   ],
   "source": [
    "{i:i**2 for i in range(1, 11)}"
   ]
  },
  {
   "cell_type": "code",
   "execution_count": 120,
   "metadata": {},
   "outputs": [
    {
     "data": {
      "text/plain": [
       "{'lahore': 186.0,\n",
       " 'karachi': 620.0,\n",
       " 'islamabad': 248.0,\n",
       " 'peshawar': 310.0,\n",
       " 'quetta': 496.0}"
      ]
     },
     "execution_count": 120,
     "metadata": {},
     "output_type": "execute_result"
    }
   ],
   "source": [
    "distances = {'lahore': 300, 'karachi': 1000, 'islamabad': 400, 'peshawar': 500, 'quetta': 800}\n",
    "{key:value*0.62 for (key, value) in distances.items()}"
   ]
  },
  {
   "cell_type": "code",
   "execution_count": 121,
   "metadata": {},
   "outputs": [
    {
     "data": {
      "text/plain": [
       "{'monday': 32,\n",
       " 'tuesday': 33,\n",
       " 'wednesday': 34,\n",
       " 'thursday': 35,\n",
       " 'friday': 36,\n",
       " 'saturday': 37,\n",
       " 'sunday': 38}"
      ]
     },
     "execution_count": 121,
     "metadata": {},
     "output_type": "execute_result"
    }
   ],
   "source": [
    "days = ['monday', 'tuesday', 'wednesday', 'thursday', 'friday', 'saturday', 'sunday']\n",
    "temperatures = [32, 33, 34, 35, 36, 37, 38]\n",
    "{days[i]:temperatures[i] for i in range(len(days))}"
   ]
  },
  {
   "cell_type": "code",
   "execution_count": 124,
   "metadata": {},
   "outputs": [
    {
     "data": {
      "text/plain": [
       "{'mango': 120, 'grapes': 150}"
      ]
     },
     "execution_count": 124,
     "metadata": {},
     "output_type": "execute_result"
    }
   ],
   "source": [
    "products = {'apple': 100, 'banana': 50, 'orange': 80, 'mango': 120, 'grapes': 150}\n",
    "{key:value for (key, value) in products.items() if value > 100}"
   ]
  },
  {
   "cell_type": "code",
   "execution_count": 126,
   "metadata": {},
   "outputs": [
    {
     "data": {
      "text/plain": [
       "{2: {1: 2, 2: 4, 3: 6, 4: 8, 5: 10, 6: 12, 7: 14, 8: 16, 9: 18, 10: 20},\n",
       " 3: {1: 3, 2: 6, 3: 9, 4: 12, 5: 15, 6: 18, 7: 21, 8: 24, 9: 27, 10: 30},\n",
       " 4: {1: 4, 2: 8, 3: 12, 4: 16, 5: 20, 6: 24, 7: 28, 8: 32, 9: 36, 10: 40}}"
      ]
     },
     "execution_count": 126,
     "metadata": {},
     "output_type": "execute_result"
    }
   ],
   "source": [
    "{i:{j:i*j for j in range(1, 11)} for i in range(2, 5)}"
   ]
  },
  {
   "cell_type": "code",
   "execution_count": null,
   "metadata": {},
   "outputs": [],
   "source": []
  }
 ],
 "metadata": {
  "kernelspec": {
   "display_name": "python_eda",
   "language": "python",
   "name": "python3"
  },
  "language_info": {
   "codemirror_mode": {
    "name": "ipython",
    "version": 3
   },
   "file_extension": ".py",
   "mimetype": "text/x-python",
   "name": "python",
   "nbconvert_exporter": "python",
   "pygments_lexer": "ipython3",
   "version": "3.11.5"
  }
 },
 "nbformat": 4,
 "nbformat_minor": 2
}
