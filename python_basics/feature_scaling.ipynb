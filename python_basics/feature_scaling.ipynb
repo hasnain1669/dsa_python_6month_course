{
 "cells": [
  {
   "cell_type": "code",
   "execution_count": 16,
   "metadata": {},
   "outputs": [],
   "source": [
    "# Feature scaling\n",
    "# Min-Max scaling, Z-score scaling, Robust scaling, Normalization, Binarization"
   ]
  },
  {
   "cell_type": "markdown",
   "metadata": {},
   "source": [
    "### MinMaxScaling"
   ]
  },
  {
   "cell_type": "code",
   "execution_count": 17,
   "metadata": {},
   "outputs": [],
   "source": [
    "import pandas as pd\n",
    "import numpy as np\n",
    "from sklearn.preprocessing import MinMaxScaler, StandardScaler, RobustScaler, Normalizer, Binarizer"
   ]
  },
  {
   "cell_type": "code",
   "execution_count": 18,
   "metadata": {},
   "outputs": [
    {
     "name": "stdout",
     "output_type": "stream",
     "text": [
      "   x1  x2  x3\n",
      "0  78  68  99\n",
      "1  97   0  12\n",
      "2  62  83  11\n",
      "3  32  10  89\n",
      "4  84  23  58\n"
     ]
    }
   ],
   "source": [
    "# sample data in random\n",
    "data = {\n",
    "    'x1': np.random.randint(0, 100, 5),\n",
    "    'x2': np.random.randint(0, 100, 5),\n",
    "    'x3': np.random.randint(0, 100, 5)\n",
    "}\n",
    "\n",
    "df = pd.DataFrame(data)\n",
    "print(df)"
   ]
  },
  {
   "cell_type": "code",
   "execution_count": 19,
   "metadata": {},
   "outputs": [
    {
     "name": "stdout",
     "output_type": "stream",
     "text": [
      "[[0.70769231 0.81927711 1.        ]\n",
      " [1.         0.         0.01136364]\n",
      " [0.46153846 1.         0.        ]\n",
      " [0.         0.12048193 0.88636364]\n",
      " [0.8        0.27710843 0.53409091]]\n"
     ]
    }
   ],
   "source": [
    "# Min-Max scaling \n",
    "scaler = MinMaxScaler() # create a scaler object\n",
    "df_scaled = scaler.fit_transform(df[[data for data in df.columns]])\n",
    "print(df_scaled)"
   ]
  },
  {
   "cell_type": "code",
   "execution_count": 20,
   "metadata": {},
   "outputs": [
    {
     "name": "stdout",
     "output_type": "stream",
     "text": [
      "[[ 0.33125622  0.95196308  1.21861662]\n",
      " [ 1.18177894 -1.12282825 -1.12695076]\n",
      " [-0.38497344  1.40963764 -1.15391131]\n",
      " [-1.72790406 -0.81771188  0.94901117]\n",
      " [ 0.59984234 -0.42106059  0.11323429]]\n"
     ]
    }
   ],
   "source": [
    "# Z-score scaling or Standardization\n",
    "scaler = StandardScaler()\n",
    "df_scaled = scaler.fit_transform(df[[data for data in df.columns]])\n",
    "print(df_scaled)"
   ]
  },
  {
   "cell_type": "code",
   "execution_count": 21,
   "metadata": {},
   "outputs": [
    {
     "name": "stdout",
     "output_type": "stream",
     "text": [
      "[[ 0.          0.77586207  0.53246753]\n",
      " [ 0.86363636 -0.39655172 -0.5974026 ]\n",
      " [-0.72727273  1.03448276 -0.61038961]\n",
      " [-2.09090909 -0.22413793  0.4025974 ]\n",
      " [ 0.27272727  0.          0.        ]]\n"
     ]
    }
   ],
   "source": [
    "# Robust scaling\n",
    "scaler = RobustScaler()\n",
    "df_scaled = scaler.fit_transform(df[[data for data in df.columns]])\n",
    "print(df_scaled)"
   ]
  },
  {
   "cell_type": "code",
   "execution_count": 22,
   "metadata": {},
   "outputs": [
    {
     "name": "stdout",
     "output_type": "stream",
     "text": [
      "[[0.54465609 0.47482838 0.69129426]\n",
      " [0.99243448 0.         0.1227754 ]\n",
      " [0.59510936 0.79667866 0.10558392]\n",
      " [0.33646949 0.10514672 0.93580578]\n",
      " [0.80277171 0.21980654 0.55429475]]\n"
     ]
    }
   ],
   "source": [
    "# Normalization or L1 norm scaling or Log scaling\n",
    "scaler = Normalizer()\n",
    "df_scaled = scaler.fit_transform(df[[data for data in df.columns]])\n",
    "print(df_scaled)"
   ]
  },
  {
   "cell_type": "code",
   "execution_count": 23,
   "metadata": {},
   "outputs": [
    {
     "name": "stdout",
     "output_type": "stream",
     "text": [
      "   rand_data   Log_data  Log2_data  Log10_data\n",
      "0      10000   9.210340  13.287712    4.000000\n",
      "1      20000   9.903488  14.287712    4.301030\n",
      "2      30000  10.308953  14.872675    4.477121\n",
      "3      40000  10.596635  15.287712    4.602060\n",
      "4      50000  10.819778  15.609640    4.698970\n"
     ]
    }
   ],
   "source": [
    "data = {'rand_data': [10000, 20000, 30000, 40000, 50000]}\n",
    "df = pd.DataFrame(data)\n",
    "\n",
    "# Log Transformation\n",
    "df['Log_data'] = np.log(df['rand_data'])\n",
    "df['Log2_data'] = np.log2(df['rand_data'])\n",
    "df['Log10_data'] = np.log10(df['rand_data'])\n",
    "\n",
    "print(df)"
   ]
  },
  {
   "cell_type": "code",
   "execution_count": null,
   "metadata": {},
   "outputs": [],
   "source": []
  },
  {
   "cell_type": "code",
   "execution_count": null,
   "metadata": {},
   "outputs": [],
   "source": []
  }
 ],
 "metadata": {
  "kernelspec": {
   "display_name": "python_eda",
   "language": "python",
   "name": "python3"
  },
  "language_info": {
   "codemirror_mode": {
    "name": "ipython",
    "version": 3
   },
   "file_extension": ".py",
   "mimetype": "text/x-python",
   "name": "python",
   "nbconvert_exporter": "python",
   "pygments_lexer": "ipython3",
   "version": "3.11.5"
  }
 },
 "nbformat": 4,
 "nbformat_minor": 2
}
