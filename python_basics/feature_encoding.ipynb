{
 "cells": [
  {
   "cell_type": "code",
   "execution_count": 1,
   "metadata": {},
   "outputs": [],
   "source": [
    "# Feature encoding, \n",
    "# 1. One-hot encoding\n",
    "# 2. Label encoding\n",
    "# 3. Ordinal encoding\n",
    "# 4. Binary encoding\n",
    "# 5. Mean encoding\n",
    "# 6. Frequency encoding\n",
    "# 7. Probability ratio encoding\n",
    "# 8. Weight of evidence encoding\n",
    "# 9. Hashing encoding\n",
    "# 10. Helmert encoding\n",
    "# 11. Sum encoding\n",
    "# 12. Backward difference encoding\n",
    "# 13. Polynomial encoding\n",
    "# 14. BaseN encoding\n",
    "# 15. Target encoding\n",
    "# 16. Leave-one-out encoding\n",
    "# 17. Catboost encoding\n",
    "# 18. James-Stein encoding\n",
    "# 19. M-estimator encoding\n",
    "# 20. Thermometer encoding\n",
    "# 21. Feature embedding"
   ]
  },
  {
   "cell_type": "code",
   "execution_count": 2,
   "metadata": {},
   "outputs": [],
   "source": [
    "# One-hot encoding\n",
    "# One-hot encoding is the most common encoding method in machine learning.\n",
    "# It is used to convert categorical data into binary data.\n",
    "# It is also known as dummy encoding.\n",
    "# It is used to convert categorical data into binary data."
   ]
  },
  {
   "cell_type": "code",
   "execution_count": 5,
   "metadata": {},
   "outputs": [
    {
     "name": "stdout",
     "output_type": "stream",
     "text": [
      "    color\n",
      "0     Red\n",
      "1  Yellow\n",
      "2     Red\n",
      "3     Red\n",
      "4  Yellow\n",
      "5  Yellow\n",
      "6     Red\n",
      "7  Yellow\n",
      "8     Red\n",
      "9  Yellow\n",
      "     Red  Yellow\n",
      "0   True   False\n",
      "1  False    True\n",
      "2   True   False\n",
      "3   True   False\n",
      "4  False    True\n",
      "5  False    True\n",
      "6   True   False\n",
      "7  False    True\n",
      "8   True   False\n",
      "9  False    True\n"
     ]
    }
   ],
   "source": [
    "import pandas as pd\n",
    "# sample data\n",
    "data = {'color': ['Red', 'Yellow', 'Red', 'Red', 'Yellow', 'Yellow', 'Red', 'Yellow', 'Red', 'Yellow']}\n",
    "df = pd.DataFrame(data)\n",
    "print(df)\n",
    "# One-hot encoding\n",
    "one_hot = pd.get_dummies(df['color']) # get_dummies() function is used to convert categorical variable into dummy/indicator variables.\n",
    "print(one_hot)"
   ]
  },
  {
   "cell_type": "code",
   "execution_count": 6,
   "metadata": {},
   "outputs": [
    {
     "name": "stdout",
     "output_type": "stream",
     "text": [
      "  animal\n",
      "0    cat\n",
      "1    dog\n",
      "2    cat\n",
      "3   fish\n",
      "4    dog\n",
      "5    dog\n",
      "6    cat\n",
      "7    dog\n",
      "8    cat\n",
      "9    dog\n",
      "   animal\n",
      "0       0\n",
      "1       1\n",
      "2       0\n",
      "3       2\n",
      "4       1\n",
      "5       1\n",
      "6       0\n",
      "7       1\n",
      "8       0\n",
      "9       1\n"
     ]
    }
   ],
   "source": [
    "# Label encoding\n",
    "from sklearn.preprocessing import LabelEncoder\n",
    "# sample data\n",
    "data = {'animal': ['cat', 'dog', 'cat', 'fish', 'dog', 'dog', 'cat', 'dog', 'cat', 'dog']}\n",
    "df = pd.DataFrame(data)\n",
    "print(df)\n",
    "# label encoding\n",
    "label_encoder = LabelEncoder()\n",
    "df['animal'] = label_encoder.fit_transform(df['animal'])\n",
    "print(df)"
   ]
  },
  {
   "cell_type": "code",
   "execution_count": 12,
   "metadata": {},
   "outputs": [
    {
     "name": "stdout",
     "output_type": "stream",
     "text": [
      "  size\n",
      "0    S\n",
      "1    M\n",
      "2    L\n",
      "3    M\n",
      "4    S\n",
      "5   XL\n",
      "6    M\n",
      "7    S\n",
      "8    L\n",
      "9   XL\n",
      "   size\n",
      "0     2\n",
      "1     1\n",
      "2     0\n",
      "3     1\n",
      "4     2\n",
      "5     3\n",
      "6     1\n",
      "7     2\n",
      "8     0\n",
      "9     3\n"
     ]
    }
   ],
   "source": [
    "# ordinal encoding\n",
    "# Label encoding\n",
    "from sklearn.preprocessing import OrdinalEncoder\n",
    "# sample data\n",
    "data = {'size': ['S', 'M', 'L', 'M', 'S', 'XL', 'M', 'S', 'L', 'XL']}\n",
    "df = pd.DataFrame(data)\n",
    "print(df)\n",
    "# Ordinal Encoding\n",
    "ordinal_encoder = OrdinalEncoder(categories=[['S', 'M', 'L', 'XL']])\n",
    "df['size'] = label_encoder.fit_transform(df['size'])\n",
    "print(df)"
   ]
  },
  {
   "cell_type": "code",
   "execution_count": null,
   "metadata": {},
   "outputs": [],
   "source": []
  }
 ],
 "metadata": {
  "kernelspec": {
   "display_name": "python_eda",
   "language": "python",
   "name": "python3"
  },
  "language_info": {
   "codemirror_mode": {
    "name": "ipython",
    "version": 3
   },
   "file_extension": ".py",
   "mimetype": "text/x-python",
   "name": "python",
   "nbconvert_exporter": "python",
   "pygments_lexer": "ipython3",
   "version": "3.11.5"
  }
 },
 "nbformat": 4,
 "nbformat_minor": 2
}
