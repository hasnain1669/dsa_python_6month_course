{
 "cells": [
  {
   "cell_type": "code",
   "execution_count": null,
   "metadata": {},
   "outputs": [],
   "source": [
    "from langchain.llms import OpenAI\n",
    "import os\n",
    "os.environ['OPENAI_API_KEY'] = 'sk-'\n",
    "openai_llm = OpenAI(temperature=0.5) # model_name = 'text-davinci-003'\n",
    "text = 'how can we describe the life of a human being?'\n",
    "print(openai_llm(text))"
   ]
  },
  {
   "cell_type": "code",
   "execution_count": 6,
   "metadata": {},
   "outputs": [],
   "source": [
    "from langchain import HuggingFaceHub\n",
    "import os\n",
    "os.environ['HUGGINGFACE_API_TOKEN'] = 'hf_'\n",
    "llm = HuggingFaceHub(model_name='gpt2', model_kwargs={'temperature':0.5, 'max_length':80})\n",
    "llm('what is the meaning of life?')"
   ]
  }
 ],
 "metadata": {
  "kernelspec": {
   "display_name": "st_env",
   "language": "python",
   "name": "python3"
  },
  "language_info": {
   "codemirror_mode": {
    "name": "ipython",
    "version": 3
   },
   "file_extension": ".py",
   "mimetype": "text/x-python",
   "name": "python",
   "nbconvert_exporter": "python",
   "pygments_lexer": "ipython3",
   "version": "3.12.1"
  }
 },
 "nbformat": 4,
 "nbformat_minor": 2
}
