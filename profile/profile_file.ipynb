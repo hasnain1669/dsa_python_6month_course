{
 "cells": [
  {
   "cell_type": "code",
   "execution_count": 5,
   "metadata": {},
   "outputs": [
    {
     "data": {
      "text/html": [
       "<link rel=\"stylesheet\" href=\"logos.css\">\n",
       "    <div class=\"logo-box\">\n",
       "    <a href=\"https://www.kaggle.com/haroon669\"><img class=\"kaggle-logo\" src=\"kaggle.png\" alt=\"Kaggle\"></a>\n",
       "    <a href=\"https://github.com/hasnain1669\"><img class=\"github-logo\" src=\"github.png\" alt=\"GitHub\"></a>\n",
       "    <a href=\"https://www.linkedin.com/in/muhammad-haroon-ul-hasnain/\"><img class=\"linkedin-logo\" src=\"linkedin.png\" alt=\"LinkedIn\"></a>\n",
       "    <a href=\"https://twitter.com/hasnain1669\"><img class=\"X-logo\" src=\"X.png\" alt=\"X\"></a>\n",
       "</div>\n"
      ],
      "text/plain": [
       "<IPython.core.display.HTML object>"
      ]
     },
     "metadata": {},
     "output_type": "display_data"
    }
   ],
   "source": [
    "%%html\n",
    "<link rel=\"stylesheet\" href=\"logos.css\">\n",
    "    <div class=\"logo-box\">\n",
    "    <a href=\"https://www.kaggle.com/haroon669\"><img class=\"kaggle-logo\" src=\"kaggle.png\" alt=\"Kaggle\"></a>\n",
    "    <a href=\"https://github.com/hasnain1669\"><img class=\"github-logo\" src=\"github.png\" alt=\"GitHub\"></a>\n",
    "    <a href=\"https://www.linkedin.com/in/muhammad-haroon-ul-hasnain/\"><img class=\"linkedin-logo\" src=\"linkedin.png\" alt=\"LinkedIn\"></a>\n",
    "    <a href=\"https://twitter.com/hasnain1669\"><img class=\"X-logo\" src=\"X.png\" alt=\"X\"></a>\n",
    "</div>"
   ]
  },
  {
   "cell_type": "markdown",
   "metadata": {},
   "source": [
    "| Attribute | Details |\n",
    "|-----------|---------|\n",
    "| **Author** | **`Muhammad Haroon ul Hasnain`** |\n",
    "| **Kaggle** | [![Kaggle Badge](https://img.shields.io/badge/Kaggle-035a7d?style=for-the-badge&logo=kaggle&logoColor=white)](https://www.kaggle.com/haroon669) |\n",
    "| **Twitter** | [![Twitter Badge](https://img.shields.io/badge/Twitter-%23000000.svg?style=for-the-badge&logo=Twitter&logoColor=white)](https://twitter.com/hasnain1669) |\n",
    "| **GitHub** | [![GitHub Badge](https://img.shields.io/badge/github-%23121011.svg?style=for-the-badge&logo=github&logoColor=white)](https://github.com/hasnain1669) |\n",
    "| **Email** | [![Outlook Badge](https://img.shields.io/badge/Microsoft_Outlook-0078D4?style=for-the-badge&logo=microsoft-outlook&logoColor=white)](mailto:haroon.hasnain@outlook.com)"
   ]
  },
  {
   "cell_type": "markdown",
   "metadata": {},
   "source": [
    "| Attribute | Details |\n",
    "|-----------|---------|\n",
    "| **Author** | **Muhammad Haroon ul Hasnain** |\n",
    "| **Kaggle** | [![Kaggle Badge](https://img.shields.io/badge/Kaggle-035a7d?style=for-the-badge&logo=kaggle&logoColor=white)](https://www.kaggle.com/haroon669) |\n",
    "| **Twitter** | [![Twitter Badge](https://img.shields.io/badge/Twitter-%23000000.svg?style=for-the-badge&logo=Twitter&logoColor=white)](https://twitter.com/hasnain1669) |\n",
    "| **GitHub** | [![GitHub Badge](https://img.shields.io/badge/github-%23121011.svg?style=for-the-badge&logo=github&logoColor=white)](https://github.com/hasnain1669) |\n",
    "| **LinkedIn** | [![LinkedIn](https://img.shields.io/badge/linkedin-%230077B5.svg?style=for-the-badge&logo=linkedin&logoColor=white)](https://www.linkedin.com/in/muhammad-haroon-ul-hasnain/) |\n",
    "| **Email** | [![Outlook Badge](https://img.shields.io/badge/Microsoft_Outlook-0078D4?style=for-the-badge&logo=microsoft-outlook&logoColor=white)](mailto:haroon.hasnain@outlook.com) |\n",
    "| **Whatsapp** | [![WhatsApp](https://img.shields.io/badge/WhatsApp-25D366?style=for-the-badge&logo=whatsapp&logoColor=white)](https://wa.me/+923214741669)"
   ]
  },
  {
   "cell_type": "markdown",
   "metadata": {},
   "source": []
  },
  {
   "cell_type": "markdown",
   "metadata": {},
   "source": []
  }
 ],
 "metadata": {
  "kernelspec": {
   "display_name": "python_eda",
   "language": "python",
   "name": "python3"
  },
  "language_info": {
   "codemirror_mode": {
    "name": "ipython",
    "version": 3
   },
   "file_extension": ".py",
   "mimetype": "text/x-python",
   "name": "python",
   "nbconvert_exporter": "python",
   "pygments_lexer": "ipython3",
   "version": "3.11.5"
  }
 },
 "nbformat": 4,
 "nbformat_minor": 2
}
